{
 "cells": [
  {
   "cell_type": "raw",
   "id": "c6d289a4-761e-4a3f-b209-721dae2b6e63",
   "metadata": {},
   "source": [
    "CREACIÓN DATASET MODELO 2 V3"
   ]
  },
  {
   "cell_type": "code",
   "execution_count": 1,
   "id": "e60297bf-a564-4455-87e7-82598937c5a7",
   "metadata": {},
   "outputs": [],
   "source": [
    "# Import librerias \n",
    "import pandas as pd\n",
    "from sklearn.model_selection import train_test_split\n",
    "from sklearn.ensemble import RandomForestClassifier\n",
    "from sklearn.metrics import accuracy_score, confusion_matrix, classification_report\n",
    "from sklearn.model_selection import GridSearchCV\n",
    "from sklearn.svm import SVC\n",
    "from sklearn.preprocessing import StandardScaler\n",
    "import matplotlib.pyplot as plt\n",
    "import numpy as np"
   ]
  },
  {
   "cell_type": "code",
   "execution_count": 2,
   "id": "8f43ae60-e6e8-4c21-ad97-07a67cfbbde4",
   "metadata": {},
   "outputs": [],
   "source": [
    "# Rutas de archivos \n",
    "\n",
    "# Ruta donde se encuentran los archivos CSV\n",
    "ruta_datos_mimic = \"C:/Users/BiDAlab/TFG_Alfonso/BBDD/mimic-iv-3.1/mimic-iv-3.1/\" \n",
    "\n",
    "# Importar archivos CSV específicos\n",
    "admissions = pd.read_csv(ruta_datos_mimic + \"hosp/admissions.csv/admissions.csv\")\n",
    "diagnoses = pd.read_csv(ruta_datos_mimic + \"hosp/diagnoses_icd.csv/diagnoses_icd.csv\")\n",
    "icu_stays = pd.read_csv(ruta_datos_mimic + \"icu/icustays.csv/icustays.csv\")\n",
    "\n",
    "# Ruta guardado\n",
    "ruta_guardado = \"C:/Users/BiDAlab/TFG_Alfonso/Pruebas/Modelo2/MIMIC/CSV/V3/\""
   ]
  },
  {
   "cell_type": "code",
   "execution_count": 3,
   "id": "c1fc47f0-1029-435e-acaa-998059a76906",
   "metadata": {},
   "outputs": [
    {
     "name": "stdout",
     "output_type": "stream",
     "text": [
      "Se ha finalizado la lectura de archivos\n",
      "\n"
     ]
    }
   ],
   "source": [
    "# Buscamos en el fichero chartevents (sucesos), los que nos interesan, a través de IDs\n",
    "\n",
    "# 220050 -> presion sistólica\n",
    "# 220051 -> presión diastólica\n",
    "# 220052 -> presión mean ([sistólica + 2*diastólica]/3))\n",
    "\n",
    "# 223761 -> temp. corporal Fº\n",
    "# 223762 -> temp. corporal Cº\n",
    "\n",
    "# 220277 -> saturacion oxigeno (SpO2)\n",
    "itemids_interes = [220277]  # IDs de ejemplo\n",
    "chunksize = 1000000\n",
    "\n",
    "filtered_data = []\n",
    "\n",
    "for chunk in pd.read_csv(ruta_datos_mimic + \"icu/chartevents.csv/chartevents.csv\", chunksize=chunksize):\n",
    "    chunk_filtered = chunk[chunk['itemid'].isin(itemids_interes)]\n",
    "    filtered_data.append(chunk_filtered)\n",
    "\n",
    "chartevents = pd.concat(filtered_data)\n",
    "\n",
    "# Mensaje finalización\n",
    "print(f\"Se ha finalizado la lectura de archivos\\n\")"
   ]
  },
  {
   "cell_type": "code",
   "execution_count": 4,
   "id": "08d90696-af3c-49ee-92ea-29e28a11ad68",
   "metadata": {},
   "outputs": [
    {
     "name": "stdout",
     "output_type": "stream",
     "text": [
      "Resultados guardados en 'CSV/chartevents_oxigeno.csv'\n"
     ]
    }
   ],
   "source": [
    "# Guardamos los datos extraidos de chartevents\n",
    "\n",
    "chartevents.to_csv(ruta_guardado +\"chartevents_oxigeno.csv\", index=False)\n",
    "# Mensaje de finalización\n",
    "print(\"Resultados guardados en 'CSV/chartevents_oxigeno.csv'\")"
   ]
  },
  {
   "cell_type": "code",
   "execution_count": 5,
   "id": "9a5beb4f-b831-49b9-b6ba-45da67409227",
   "metadata": {},
   "outputs": [
    {
     "name": "stdout",
     "output_type": "stream",
     "text": [
      "Número de casos de sepsis: 15880\n",
      "   subject_id  hadm_id_x  seq_num icd_code  icd_version  hadm_id_y  \\\n",
      "0    10000826   21086876        2    99591            9   20032235   \n",
      "1    10000826   21086876        2    99591            9   21086876   \n",
      "2    10000826   21086876        2    99591            9   28289260   \n",
      "3    10001401   27012892        3    R6520           10   20144849   \n",
      "4    10001401   27012892        3    R6520           10   21544441   \n",
      "\n",
      "             admittime            dischtime deathtime  \\\n",
      "0  2146-12-05 19:07:00  2146-12-12 16:30:00       NaN   \n",
      "1  2146-12-18 17:39:00  2146-12-24 19:55:00       NaN   \n",
      "2  2146-12-31 00:43:00  2147-01-02 17:45:00       NaN   \n",
      "3  2136-11-20 14:20:00  2136-11-23 14:00:00       NaN   \n",
      "4  2131-06-04 00:00:00  2131-06-15 16:10:00       NaN   \n",
      "\n",
      "                admission_type admit_provider_id  admission_location  \\\n",
      "0                     EW EMER.            P278S6      EMERGENCY ROOM   \n",
      "1                 DIRECT EMER.            P61YAW     CLINIC REFERRAL   \n",
      "2                     EW EMER.            P19UTS      EMERGENCY ROOM   \n",
      "3            OBSERVATION ADMIT            P43NRJ  PHYSICIAN REFERRAL   \n",
      "4  SURGICAL SAME DAY ADMISSION            P360JE  PHYSICIAN REFERRAL   \n",
      "\n",
      "         discharge_location insurance language marital_status   race  \\\n",
      "0                      HOME   Private  English         SINGLE  WHITE   \n",
      "1                      HOME   Private  English         SINGLE  WHITE   \n",
      "2                      HOME   Private  English         SINGLE  WHITE   \n",
      "3          HOME HEALTH CARE  Medicare  English        MARRIED  WHITE   \n",
      "4  SKILLED NURSING FACILITY  Medicare  English        MARRIED  WHITE   \n",
      "\n",
      "             edregtime            edouttime  hospital_expire_flag  \n",
      "0  2146-12-05 11:09:00  2146-12-05 20:54:00                     0  \n",
      "1                  NaN                  NaN                     0  \n",
      "2  2146-12-30 17:06:00  2146-12-31 02:10:00                     0  \n",
      "3                  NaN                  NaN                     0  \n",
      "4                  NaN                  NaN                     0  \n"
     ]
    }
   ],
   "source": [
    "# Filtramos los pacientes con sepsis con los códigos ICD\n",
    "\n",
    "# ICD9 : 99591 -> sepsis\n",
    "#        99592 -> sepsis severa\n",
    "#        78552 -> septic shock\n",
    "# ICD10 : A419 -> sepsis no especificada (sangre infectada confirmada pero causa sin especificar)\n",
    "#         R6521 -> sepsis severa\n",
    "#         R6520 -> septic shock\n",
    "codigos_sepsis = ['99591', '99592', '78552', 'R6521', 'A419', 'R6520']\n",
    "\n",
    "# Filtrar diagnósticos por códigos de sepsis\n",
    "sepsis_cases = diagnoses[diagnoses['icd_code'].isin(codigos_sepsis)]\n",
    "\n",
    "# Combinar diagnósticos de sepsis con admisiones para obtener detalles\n",
    "sepsis_details = pd.merge(sepsis_cases, admissions, on='subject_id', how='inner')\n",
    "\n",
    "# Mostrar los casos de sepsis\n",
    "print(\"Número de casos de sepsis:\", sepsis_details['subject_id'].nunique())\n",
    "print(sepsis_details.head())"
   ]
  },
  {
   "cell_type": "code",
   "execution_count": 6,
   "id": "a49b06cd-80b4-4605-8ea8-96a4c455e0e7",
   "metadata": {},
   "outputs": [
    {
     "name": "stdout",
     "output_type": "stream",
     "text": [
      "[10000826 10001401 10001843 ... 19995732 19997367 19997886]\n",
      "Número de pacientes únicos: 15880\n"
     ]
    }
   ],
   "source": [
    "# Obtenemos una lista con los pacientes unicos con sepsis\n",
    "\n",
    "n_pacientes_unicos_sepsis = sepsis_details['subject_id'].unique()\n",
    "print(n_pacientes_unicos_sepsis)\n",
    "print(f\"Número de pacientes únicos: {sepsis_details['subject_id'].nunique()}\")"
   ]
  },
  {
   "cell_type": "code",
   "execution_count": 7,
   "id": "bf7931bc-0114-45de-8c1c-7cb7176675ec",
   "metadata": {},
   "outputs": [
    {
     "name": "stdout",
     "output_type": "stream",
     "text": [
      "Resultados guardados en 'CSV/chartevents_sepsis_oxigeno.csv'\n"
     ]
    }
   ],
   "source": [
    "# Filtramos chartevents para quedarnos con los sucesos de los casos con ssepsis_cases\n",
    "\n",
    "chartevents_sepsis = chartevents[chartevents['subject_id'].isin(n_pacientes_unicos_sepsis)]\n",
    "\n",
    "# Filtrado por pacientes únicos y múltiples itemid\n",
    "chartevents_sepsis = chartevents[\n",
    "    (chartevents['subject_id'].isin(n_pacientes_unicos_sepsis))]\n",
    "\n",
    "# Guardar los detalles de sepsis en un archivo CSV\n",
    "chartevents_sepsis.to_csv(ruta_guardado +\"chartevents_sepsis_oxigeno.csv\", index=False)\n",
    "# Mensaje de finalización\n",
    "print(\"Resultados guardados en 'CSV/chartevents_sepsis_oxigeno.csv'\")"
   ]
  },
  {
   "cell_type": "code",
   "execution_count": 8,
   "id": "286f4779-a520-46bc-8020-e06608c6c0a8",
   "metadata": {},
   "outputs": [],
   "source": [
    "# Vamos a añadir como características : \n",
    "#       1. Valor max. y min. en las últimas 24 h.\n",
    "# Trabajaré sobre la última hospitalización del paciente\n",
    "\n",
    "chartevents_sepsis = pd.read_csv(ruta_guardado + \"chartevents_sepsis_oxigeno.csv\")\n",
    "\n",
    "# Borramos columnas inutiles\n",
    "chartevents_sepsis = chartevents_sepsis.drop(['value', 'valueuom', 'itemid', 'storetime', 'caregiver_id'], axis=1)\n",
    "\n",
    "# Convertir charttime con formato explícito para cada grupo\n",
    "chartevents_sepsis['charttime_numeric'] = pd.to_datetime(chartevents_sepsis['charttime'], format='%Y-%m-%d %H:%M:%S', errors='coerce')\n",
    "\n",
    "# Convertir a segundos desde epoch\n",
    "chartevents_sepsis['charttime_numeric_s'] = chartevents_sepsis['charttime_numeric'].astype(np.int64) / 10**9\n",
    "# Obtener la última medición de presión arterial por paciente\n",
    "ultimo_oxigeno = (\n",
    "    chartevents_sepsis.groupby('hadm_id')['charttime']\n",
    "    .max()\n",
    "    .reset_index()\n",
    "    .rename(columns={'charttime': 'ultima_charttime'})\n",
    ")\n",
    "\n",
    "# Unir con el dataset original para añadir la última hora de medición de cada paciente\n",
    "df = chartevents_sepsis.merge(ultimo_oxigeno, on='hadm_id', how='left')\n",
    "\n",
    "df['ultima_charttime'] = pd.to_datetime(df['ultima_charttime'], format='%Y-%m-%d %H:%M:%S', errors='coerce')\n",
    "\n",
    "df['ultima_charttime'] = df['ultima_charttime'].astype(np.int64) / 10**9\n",
    "\n",
    "df = df.drop(['charttime'],axis= 1)\n",
    "\n",
    "df.to_csv(ruta_guardado +\"borrar.csv\", index=False)\n"
   ]
  },
  {
   "cell_type": "code",
   "execution_count": 9,
   "id": "7f0ebd8e-324d-43a9-8aa3-4e22594d3eb5",
   "metadata": {},
   "outputs": [
    {
     "name": "stdout",
     "output_type": "stream",
     "text": [
      "   subject_id   hadm_id   stay_id  valuenum  warning   charttime_numeric  \\\n",
      "0    10001843  26133978  39698942      84.0      0.0 2134-12-06 07:11:00   \n",
      "1    10001843  26133978  39698942      97.0      0.0 2134-12-06 08:06:00   \n",
      "2    10001843  26133978  39698942      97.0      0.0 2134-12-06 09:53:00   \n",
      "3    10001843  26133978  39698942      97.0      0.0 2134-12-06 10:04:00   \n",
      "4    10001843  26133978  39698942      97.0      0.0 2134-12-05 23:00:00   \n",
      "\n",
      "   charttime_numeric_s  ultima_charttime  \n",
      "0         5.204675e+09      5.204686e+09  \n",
      "1         5.204679e+09      5.204686e+09  \n",
      "2         5.204685e+09      5.204686e+09  \n",
      "3         5.204686e+09      5.204686e+09  \n",
      "4         5.204646e+09      5.204686e+09  \n"
     ]
    }
   ],
   "source": [
    "print(df.head())"
   ]
  },
  {
   "cell_type": "code",
   "execution_count": 11,
   "id": "e1f2f629-3368-460b-aed4-ff0d9eb54467",
   "metadata": {},
   "outputs": [],
   "source": [
    "# Paso 1: Identificar la última hospitalización por subject_id\n",
    "ultima_hospitalizacion = (\n",
    "    df.groupby('subject_id')['ultima_charttime']\n",
    "    .max()\n",
    "    .reset_index()\n",
    "    .rename(columns={'ultima_charttime': 'max_ultima_charttime'})\n",
    ")\n",
    "\n",
    "# Paso 2: Unir esta información con el DataFrame original\n",
    "df_filtrado = df.merge(ultima_hospitalizacion, on='subject_id', how='left')\n",
    "\n",
    "# Paso 3: Filtrar solo las filas donde ultima_charttime coincide con la última hospitalización\n",
    "df_ultima_hosp = df_filtrado[df_filtrado['ultima_charttime'] == df_filtrado['max_ultima_charttime']]\n",
    "\n",
    "# Paso 4: Opcional: eliminar la columna auxiliar 'max_ultima_charttime' si no es necesaria\n",
    "df_ultima_hosp = df_ultima_hosp.drop(columns=['max_ultima_charttime', 'stay_id', 'hadm_id'])\n",
    "\n",
    "# Guardar el resultado final\n",
    "df_ultima_hosp.to_csv(ruta_guardado + \"ultima_hospitalizacion.csv\", index=False)"
   ]
  },
  {
   "cell_type": "code",
   "execution_count": 21,
   "id": "746eeb05-c37c-4544-8ecf-1aa39b67f3d9",
   "metadata": {},
   "outputs": [],
   "source": [
    "# Filtrar las últimas 24 horas para cada subject_id\n",
    "def filtrar_ultimas_24h(grupo):\n",
    "    ultima_hora = grupo['ultima_charttime'].iloc[-1]\n",
    "    return grupo[grupo['charttime_numeric_s'] >= (ultima_hora - 12*60*60)]"
   ]
  },
  {
   "cell_type": "code",
   "execution_count": 22,
   "id": "f2138b2c-ae72-4e7b-8fb1-6fada827c0c2",
   "metadata": {},
   "outputs": [
    {
     "name": "stderr",
     "output_type": "stream",
     "text": [
      "C:\\Users\\BiDAlab\\AppData\\Local\\Temp\\ipykernel_2988\\2965055277.py:1: DeprecationWarning: DataFrameGroupBy.apply operated on the grouping columns. This behavior is deprecated, and in a future version of pandas the grouping columns will be excluded from the operation. Either pass `include_groups=False` to exclude the groupings or explicitly select the grouping columns after groupby to silence this warning.\n",
      "  df_filtrado = df_ultima_hosp.groupby('subject_id').apply(filtrar_ultimas_24h).reset_index(drop=True)\n"
     ]
    }
   ],
   "source": [
    "df_filtrado = df_ultima_hosp.groupby('subject_id').apply(filtrar_ultimas_24h).reset_index(drop=True)\n",
    "\n",
    "# Calcular el valor mínimo y máximo de oxígeno en las últimas 24 horas\n",
    "resultados = df_filtrado.groupby('subject_id')['valuenum'].agg(\n",
    "    oxigeno_min_24h='min',\n",
    "    oxigeno_max_24h='max'\n",
    ").reset_index()\n",
    "\n",
    "# Unir los resultados al dataframe original\n",
    "df_final = df_ultima_hosp.merge(resultados, on='subject_id', how='left')"
   ]
  },
  {
   "cell_type": "code",
   "execution_count": 23,
   "id": "99911c0c-ab8d-40f7-8c1b-1618a8731ec8",
   "metadata": {},
   "outputs": [
    {
     "name": "stdout",
     "output_type": "stream",
     "text": [
      "   subject_id  valuenum  warning   charttime_numeric  charttime_numeric_s  \\\n",
      "0    10001843      84.0      0.0 2134-12-06 07:11:00         5.204675e+09   \n",
      "1    10001843      97.0      0.0 2134-12-06 08:06:00         5.204679e+09   \n",
      "2    10001843      97.0      0.0 2134-12-06 09:53:00         5.204685e+09   \n",
      "3    10001843      97.0      0.0 2134-12-06 10:04:00         5.204686e+09   \n",
      "4    10001843      97.0      0.0 2134-12-05 23:00:00         5.204646e+09   \n",
      "\n",
      "   ultima_charttime  oxigeno_min_24h  oxigeno_max_24h  \n",
      "0      5.204686e+09             84.0             99.0  \n",
      "1      5.204686e+09             84.0             99.0  \n",
      "2      5.204686e+09             84.0             99.0  \n",
      "3      5.204686e+09             84.0             99.0  \n",
      "4      5.204686e+09             84.0             99.0  \n"
     ]
    }
   ],
   "source": [
    "print(df_final.head())"
   ]
  },
  {
   "cell_type": "code",
   "execution_count": 24,
   "id": "2de8eeeb-9755-4da4-9ae1-453c6e4b37cc",
   "metadata": {},
   "outputs": [
    {
     "name": "stdout",
     "output_type": "stream",
     "text": [
      "Resultados guardados en 'CSV/max_min_oxigeno.csv'\n"
     ]
    }
   ],
   "source": [
    "# Guardar los detalles de sepsis en un archivo CSV\n",
    "df_final.to_csv(ruta_guardado +\"max_min_oxigeno.csv\", index=False)\n",
    "# Mensaje de finalización\n",
    "print(\"Resultados guardados en 'CSV/max_min_oxigeno.csv'\")"
   ]
  },
  {
   "cell_type": "code",
   "execution_count": 25,
   "id": "d501531e-86d4-438a-89f1-674dceab9927",
   "metadata": {},
   "outputs": [
    {
     "name": "stdout",
     "output_type": "stream",
     "text": [
      "Resultados guardados en 'CSV/max_min_oxigeno_unico.csv'\n"
     ]
    }
   ],
   "source": [
    "# Eliminar duplicados quedándote con el último (keep='last')\n",
    "ultima_medicion = df_final.drop_duplicates(subset='subject_id', keep='last')\n",
    "\n",
    "ultima_medicion.to_csv(ruta_guardado +\"max_min_oxigeno_unico.csv\", index=False)\n",
    "# Mensaje de finalización\n",
    "print(\"Resultados guardados en 'CSV/max_min_oxigeno_unico.csv'\")"
   ]
  },
  {
   "cell_type": "code",
   "execution_count": 27,
   "id": "4a94a8dc-059d-4888-af39-5f415c428dd7",
   "metadata": {},
   "outputs": [
    {
     "name": "stdout",
     "output_type": "stream",
     "text": [
      "   subject_id  gender  anchor_age  sis_desviacion  dias_desviacion  \\\n",
      "0    10002013       0          53       16.689746         8.576824   \n",
      "1    10002428       0          80       16.925170        12.605705   \n",
      "2    10003400       0          72       10.814669         9.766610   \n",
      "3    10003637       1          57       16.366693         6.206981   \n",
      "4    10004235       1          47       14.743613        10.639475   \n",
      "\n",
      "   mean_desviacion   sis_media  dias_media  mean_media  sis_mediana  ...  \\\n",
      "0        13.514515  110.619048   61.476190   76.700000        116.0  ...   \n",
      "1        15.075749  110.987220   59.006390   79.524845        109.0  ...   \n",
      "2         9.163913  102.727749   64.884817   78.518325        102.0  ...   \n",
      "3         7.390996  123.716667   54.166667   71.808333        124.5  ...   \n",
      "4        11.361041  108.368421   68.131579   79.815789        104.5  ...   \n",
      "\n",
      "   sepsis  total_warnings_temperatura  total_warnings_oxigeno  valuenum  \\\n",
      "0       1                         0.0                     0.0      99.0   \n",
      "1       1                         2.0                     0.0     100.0   \n",
      "2       1                         3.0                     3.0      98.0   \n",
      "3       1                         3.0                     2.0      95.0   \n",
      "4       1                         1.0                     2.0      98.0   \n",
      "\n",
      "   warning   charttime_numeric  charttime_numeric_s  ultima_charttime  \\\n",
      "0      0.0 2160-05-19 16:00:00         6.007882e+09      6.007882e+09   \n",
      "1      0.0 2156-05-17 17:00:00         5.881482e+09      5.881900e+09   \n",
      "2      0.0 2137-09-01 06:00:00         5.291071e+09      5.291194e+09   \n",
      "3      0.0 2150-05-20 03:00:00         5.692302e+09      5.692493e+09   \n",
      "4      0.0 2196-02-25 23:00:00         7.136723e+09      7.137040e+09   \n",
      "\n",
      "   oxigeno_min_24h  oxigeno_max_24h  \n",
      "0             91.0            100.0  \n",
      "1             96.0            100.0  \n",
      "2             92.0            100.0  \n",
      "3             94.0            100.0  \n",
      "4             93.0             99.0  \n",
      "\n",
      "[5 rows x 25 columns]\n"
     ]
    }
   ],
   "source": [
    "# Añado esta característica al fichero de características del MODELO2_V2 (parte ssepsis_cases)\n",
    "\n",
    "archivo_estadísticas = pd.read_csv(\"C:/Users/BiDAlab/TFG_Alfonso/Pruebas/Modelo2/MIMIC/CSV/V2/archivo_combiando_oxigeno.csv\")\n",
    "\n",
    "archivo_estadísticas_sepsis = pd.merge(archivo_estadísticas, ultima_medicion, on='subject_id', how='inner')\n",
    "\n",
    "print(archivo_estadísticas_sepsis.head())"
   ]
  },
  {
   "cell_type": "code",
   "execution_count": 28,
   "id": "22a6dc10-9650-41f4-977c-f353a8567f0c",
   "metadata": {},
   "outputs": [
    {
     "name": "stdout",
     "output_type": "stream",
     "text": [
      "Resultados guardados en 'CSV/chartevents_NO_sepsis_oxigeno.csv'\n"
     ]
    }
   ],
   "source": [
    "# Realizamos lo mismo pero para los pacientes sin sepsis\n",
    "\n",
    "# Ahora hago una lista con los pacientes sin sepsis\n",
    "subject_ids_sepsis_0 = archivo_estadísticas[archivo_estadísticas['sepsis'] == 0]['subject_id'].tolist()\n",
    "\n",
    "# Miro en chatevents su oxigeno\n",
    "\n",
    "# Filtramos chartevents para quedarnos con los sucesos de los casos SIN sepsis\n",
    "chartevents_no_sepsis = chartevents[chartevents['subject_id'].isin(subject_ids_sepsis_0)]\n",
    "\n",
    "# Guardar los detalles de sepsis en un archivo CSV\n",
    "chartevents_no_sepsis.to_csv(ruta_guardado +\"chartevents_NO_sepsis_oxigeno.csv\", index=False)\n",
    "# Mensaje de finalización\n",
    "print(\"Resultados guardados en 'CSV/chartevents_NO_sepsis_oxigeno.csv'\")"
   ]
  },
  {
   "cell_type": "code",
   "execution_count": 29,
   "id": "09cb296b-2530-4d1f-9cd7-fdc63d531832",
   "metadata": {},
   "outputs": [],
   "source": [
    "# Vamos a añadir como características : \n",
    "#       1. Valor max. y min. en las últimas 24 h.\n",
    "# Trabajaré sobre la última hospitalización del paciente\n",
    "\n",
    "chartevents_no_sepsis = pd.read_csv(ruta_guardado + \"chartevents_NO_sepsis_oxigeno.csv\")\n",
    "\n",
    "# Borramos columnas inutiles\n",
    "chartevents_no_sepsis = chartevents_no_sepsis.drop(['value', 'valueuom', 'itemid', 'storetime', 'caregiver_id'], axis=1)\n",
    "\n",
    "# Convertir charttime con formato explícito para cada grupo\n",
    "chartevents_no_sepsis['charttime_numeric'] = pd.to_datetime(chartevents_no_sepsis['charttime'], format='%Y-%m-%d %H:%M:%S', errors='coerce')\n",
    "\n",
    "# Convertir a segundos desde epoch\n",
    "chartevents_no_sepsis['charttime_numeric_s'] = chartevents_no_sepsis['charttime_numeric'].astype(np.int64) / 10**9\n",
    "# Obtener la última medición de presión arterial por paciente\n",
    "ultimo_oxigeno = (\n",
    "    chartevents_no_sepsis.groupby('hadm_id')['charttime']\n",
    "    .max()\n",
    "    .reset_index()\n",
    "    .rename(columns={'charttime': 'ultima_charttime'})\n",
    ")\n",
    "\n",
    "# Unir con el dataset original para añadir la última hora de medición de cada paciente\n",
    "df = chartevents_no_sepsis.merge(ultimo_oxigeno, on='hadm_id', how='left')\n",
    "\n",
    "df['ultima_charttime'] = pd.to_datetime(df['ultima_charttime'], format='%Y-%m-%d %H:%M:%S', errors='coerce')\n",
    "\n",
    "df['ultima_charttime'] = df['ultima_charttime'].astype(np.int64) / 10**9\n",
    "\n",
    "df = df.drop(['charttime'],axis= 1)\n",
    "\n",
    "df.to_csv(ruta_guardado +\"borrar_no_sepsis.csv\", index=False)\n"
   ]
  },
  {
   "cell_type": "code",
   "execution_count": 30,
   "id": "15c12169-0bcb-48a8-80a7-d7d3bcdc11cb",
   "metadata": {},
   "outputs": [],
   "source": [
    "# Paso 1: Identificar la última hospitalización por subject_id\n",
    "ultima_hospitalizacion = (\n",
    "    df.groupby('subject_id')['ultima_charttime']\n",
    "    .max()\n",
    "    .reset_index()\n",
    "    .rename(columns={'ultima_charttime': 'max_ultima_charttime'})\n",
    ")\n",
    "\n",
    "# Paso 2: Unir esta información con el DataFrame original\n",
    "df_filtrado = df.merge(ultima_hospitalizacion, on='subject_id', how='left')\n",
    "\n",
    "# Paso 3: Filtrar solo las filas donde ultima_charttime coincide con la última hospitalización\n",
    "df_ultima_hosp = df_filtrado[df_filtrado['ultima_charttime'] == df_filtrado['max_ultima_charttime']]\n",
    "\n",
    "# Paso 4: Opcional: eliminar la columna auxiliar 'max_ultima_charttime' si no es necesaria\n",
    "df_ultima_hosp = df_ultima_hosp.drop(columns=['max_ultima_charttime', 'stay_id', 'hadm_id'])\n",
    "\n",
    "# Guardar el resultado final\n",
    "df_ultima_hosp.to_csv(ruta_guardado + \"ultima_hospitalizacion_NO_sepsis.csv\", index=False)"
   ]
  },
  {
   "cell_type": "code",
   "execution_count": 31,
   "id": "5f18289d-3a70-4c9d-926e-940e3746a03c",
   "metadata": {},
   "outputs": [
    {
     "name": "stderr",
     "output_type": "stream",
     "text": [
      "C:\\Users\\BiDAlab\\AppData\\Local\\Temp\\ipykernel_2988\\3652146005.py:1: DeprecationWarning: DataFrameGroupBy.apply operated on the grouping columns. This behavior is deprecated, and in a future version of pandas the grouping columns will be excluded from the operation. Either pass `include_groups=False` to exclude the groupings or explicitly select the grouping columns after groupby to silence this warning.\n",
      "  df_filtrado_NO_sepsis = df_ultima_hosp.groupby('subject_id').apply(filtrar_ultimas_24h).reset_index(drop=True)\n"
     ]
    }
   ],
   "source": [
    "df_filtrado_NO_sepsis = df_ultima_hosp.groupby('subject_id').apply(filtrar_ultimas_24h).reset_index(drop=True)\n",
    "\n",
    "# Calcular el valor mínimo y máximo de oxígeno en las últimas 24 horas\n",
    "resultados = df_filtrado_NO_sepsis.groupby('subject_id')['valuenum'].agg(\n",
    "    oxigeno_min_24h='min',\n",
    "    oxigeno_max_24h='max'\n",
    ").reset_index()\n",
    "\n",
    "# Unir los resultados al dataframe original\n",
    "df_final = df_ultima_hosp.merge(resultados, on='subject_id', how='left')"
   ]
  },
  {
   "cell_type": "code",
   "execution_count": 32,
   "id": "9327657d-2786-4584-a4bb-647b76c0856b",
   "metadata": {},
   "outputs": [
    {
     "name": "stdout",
     "output_type": "stream",
     "text": [
      "Resultados guardados en 'CSV/max_min_oxigeno_NO_sepsis.csv'\n"
     ]
    }
   ],
   "source": [
    "# Guardar los detalles de sepsis en un archivo CSV\n",
    "df_final.to_csv(ruta_guardado +\"max_min_oxigeno_NO_sepsis.csv\", index=False)\n",
    "# Mensaje de finalización\n",
    "print(\"Resultados guardados en 'CSV/max_min_oxigeno_NO_sepsis.csv'\")"
   ]
  },
  {
   "cell_type": "code",
   "execution_count": 33,
   "id": "89e30563-a89e-489d-93aa-2240b439e835",
   "metadata": {},
   "outputs": [
    {
     "name": "stdout",
     "output_type": "stream",
     "text": [
      "Resultados guardados en 'CSV/max_min_oxigeno_unico_NO_sepsis.csv'\n"
     ]
    }
   ],
   "source": [
    "# Eliminar duplicados quedándote con el último (keep='last')\n",
    "ultima_medicion = df_final.drop_duplicates(subset='subject_id', keep='last')\n",
    "\n",
    "ultima_medicion.to_csv(ruta_guardado +\"max_min_oxigeno_unico_NO_sepsis.csv\", index=False)\n",
    "# Mensaje de finalización\n",
    "print(\"Resultados guardados en 'CSV/max_min_oxigeno_unico_NO_sepsis.csv'\")"
   ]
  },
  {
   "cell_type": "code",
   "execution_count": 34,
   "id": "85a4697c-c2af-4a85-bbee-365eb97b662e",
   "metadata": {},
   "outputs": [
    {
     "name": "stdout",
     "output_type": "stream",
     "text": [
      "   subject_id  gender  anchor_age  sis_desviacion  dias_desviacion  \\\n",
      "0    10002155       0          80        9.555103         7.056912   \n",
      "1    10002760       1          56        9.953648         4.998814   \n",
      "2    10004606       0          64       24.549849         7.013110   \n",
      "3    10004764       1          70       13.304104         4.511060   \n",
      "4    10005866       1          57       13.605328         5.313636   \n",
      "\n",
      "   mean_desviacion   sis_media  dias_media  mean_media  sis_mediana  ...  \\\n",
      "0         8.105554  113.400000   57.400000   80.200000        115.0  ...   \n",
      "1         5.984499  108.434783   57.521739   74.217391        107.0  ...   \n",
      "2        12.932371  152.151515   51.939394   80.606061        154.0  ...   \n",
      "3         5.075356  118.581395   45.162791   67.651163        120.0  ...   \n",
      "4        12.339189  116.017241   57.103448   75.086207        114.5  ...   \n",
      "\n",
      "   sepsis  total_warnings_temperatura  total_warnings_oxigeno  valuenum  \\\n",
      "0       0                         0.0                     7.0      83.0   \n",
      "1       0                         0.0                     0.0      96.0   \n",
      "2       0                         0.0                     0.0      92.0   \n",
      "3       0                         0.0                     1.0      94.0   \n",
      "4       0                         0.0                     2.0      96.0   \n",
      "\n",
      "   warning   charttime_numeric  charttime_numeric_s  ultima_charttime  \\\n",
      "0      0.0 2131-03-10 00:00:00         5.086541e+09      5.086602e+09   \n",
      "1      0.0 2141-04-21 14:00:00         5.405839e+09      5.405839e+09   \n",
      "2      0.0 2159-02-23 06:00:00         5.968879e+09      5.969088e+09   \n",
      "3      0.0 2168-04-13 21:00:00         6.257250e+09      6.257333e+09   \n",
      "4      0.0 2149-10-03 19:00:00         5.672574e+09      5.672650e+09   \n",
      "\n",
      "   oxigeno_min_24h  oxigeno_max_24h  \n",
      "0             90.0            100.0  \n",
      "1             92.0            100.0  \n",
      "2             93.0            100.0  \n",
      "3             93.0             98.0  \n",
      "4             90.0             95.0  \n",
      "\n",
      "[5 rows x 25 columns]\n"
     ]
    }
   ],
   "source": [
    "# Añado esta característica al fichero de características del MODELO2_V2 (parte ssepsis_cases)\n",
    "\n",
    "archivo_estadísticas_NO_sepsis = pd.merge(archivo_estadísticas, ultima_medicion, on='subject_id', how='inner')\n",
    "\n",
    "print(archivo_estadísticas_NO_sepsis.head())"
   ]
  },
  {
   "cell_type": "code",
   "execution_count": 41,
   "id": "b47176da-e25c-47e2-a0ba-a7a922d48b8d",
   "metadata": {},
   "outputs": [
    {
     "name": "stdout",
     "output_type": "stream",
     "text": [
      "Resultados guardados en 'CSV/archivo_combiando_oxigeno_max_min.csv'\n"
     ]
    }
   ],
   "source": [
    "# Combino los archivos de sepsis y de no ssepsis_cases\n",
    "\n",
    "archivo_final = pd.concat([archivo_estadísticas_sepsis, archivo_estadísticas_NO_sepsis])\n",
    "\n",
    "archivo_final = archivo_final.drop(columns=['warning', 'charttime_numeric', 'charttime_numeric_s', 'ultima_charttime', 'valuenum'])\n",
    "\n",
    "# Ordenar por subject_id de menor a mayor\n",
    "archivo_final = archivo_final.sort_values(by='subject_id').reset_index(drop=True)\n",
    "\n",
    "# Guardar los detalles en un archivo CSV\n",
    "archivo_final.to_csv(ruta_guardado +\"archivo_combiando_oxigeno_max_min.csv\", index=False)\n",
    "# Mensaje de finalización\n",
    "print(\"Resultados guardados en 'CSV/archivo_combiando_oxigeno_max_min.csv'\")"
   ]
  }
 ],
 "metadata": {
  "kernelspec": {
   "display_name": "Python 3 (ipykernel)",
   "language": "python",
   "name": "python3"
  },
  "language_info": {
   "codemirror_mode": {
    "name": "ipython",
    "version": 3
   },
   "file_extension": ".py",
   "mimetype": "text/x-python",
   "name": "python",
   "nbconvert_exporter": "python",
   "pygments_lexer": "ipython3",
   "version": "3.10.7"
  }
 },
 "nbformat": 4,
 "nbformat_minor": 5
}
