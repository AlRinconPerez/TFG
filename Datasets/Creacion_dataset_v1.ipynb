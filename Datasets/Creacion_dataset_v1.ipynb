{
 "cells": [
  {
   "cell_type": "markdown",
   "id": "01d53f97-2550-4153-a6b1-988b9da2269e",
   "metadata": {},
   "source": [
    "CREACIÓN DATASET MODELO 2 V1"
   ]
  },
  {
   "cell_type": "code",
   "execution_count": 1,
   "id": "b92544df-712e-4ee0-bd1c-3542707bd770",
   "metadata": {},
   "outputs": [],
   "source": [
    "# Import librerias \n",
    "import pandas as pd\n",
    "from sklearn.model_selection import train_test_split\n",
    "from sklearn.ensemble import RandomForestClassifier\n",
    "from sklearn.metrics import accuracy_score, confusion_matrix, classification_report\n",
    "from sklearn.model_selection import GridSearchCV\n",
    "from sklearn.svm import SVC\n",
    "from sklearn.preprocessing import StandardScaler\n",
    "import matplotlib.pyplot as plt\n",
    "import numpy as np"
   ]
  },
  {
   "cell_type": "code",
   "execution_count": 2,
   "id": "e2ea47ce-e39d-4a56-a22b-34fc881e0295",
   "metadata": {},
   "outputs": [],
   "source": [
    "# Rutas de archivos \n",
    "\n",
    "# Ruta donde se encuentran los archivos CSV\n",
    "ruta_datos_mimic = \"C:/Users/BiDAlab/TFG_Alfonso/BBDD/mimic-iv-3.1/mimic-iv-3.1/\" \n",
    "\n",
    "# Importar archivos CSV específicos\n",
    "admissions = pd.read_csv(ruta_datos_mimic + \"hosp/admissions.csv/admissions.csv\")\n",
    "diagnoses = pd.read_csv(ruta_datos_mimic + \"hosp/diagnoses_icd.csv/diagnoses_icd.csv\")\n",
    "icu_stays = pd.read_csv(ruta_datos_mimic + \"icu/icustays.csv/icustays.csv\")\n",
    "\n",
    "# Ruta guardado\n",
    "ruta_guardado = \"C:/Users/BiDAlab/TFG_Alfonso/Pruebas/Modelo2/MIMIC/CSV/\""
   ]
  },
  {
   "cell_type": "code",
   "execution_count": 22,
   "id": "94e7cb4d-eff6-4e2b-b187-9e6d3c55d17a",
   "metadata": {},
   "outputs": [
    {
     "name": "stdout",
     "output_type": "stream",
     "text": [
      "Se ha finalizado la lectura de archivos\n",
      "\n"
     ]
    }
   ],
   "source": [
    "# Buscamos en el fichero chartevents (sucesos), los que nos interesan, a través de IDsabs\n",
    "\n",
    "# 220050 -> presion sistólica\n",
    "# 220051 -> presión diastólica\n",
    "# 220052 -> presión mean ([sistólica + 2*diastólica]/3))\n",
    "\n",
    "# 223761 -> temp. corporal Fº\n",
    "# 223762 -> temp. corporal Cº\n",
    "itemids_interes = [223761, 223762]  # IDs de ejemplo\n",
    "chunksize = 1000000\n",
    "\n",
    "filtered_data = []\n",
    "\n",
    "for chunk in pd.read_csv(ruta_datos_mimic + \"icu/chartevents.csv/chartevents.csv\", chunksize=chunksize):\n",
    "    chunk_filtered = chunk[chunk['itemid'].isin(itemids_interes)]\n",
    "    filtered_data.append(chunk_filtered)\n",
    "\n",
    "chartevents = pd.concat(filtered_data)\n",
    "\n",
    "# Mensaje finalización\n",
    "print(f\"Se ha finalizado la lectura de archivos\\n\")"
   ]
  },
  {
   "cell_type": "code",
   "execution_count": 23,
   "id": "62aea8b7-5b6e-4a5c-aab6-ace44d319179",
   "metadata": {},
   "outputs": [
    {
     "name": "stdout",
     "output_type": "stream",
     "text": [
      "Resultados guardados en 'CSV/chartevents_temperatura.csv'\n"
     ]
    }
   ],
   "source": [
    "# Guardamos los datos extraidos de chartevents\n",
    "\n",
    "chartevents.to_csv(ruta_guardado +\"chartevents_temperatura.csv\", index=False)\n",
    "# Mensaje de finalización\n",
    "print(\"Resultados guardados en 'CSV/chartevents_temperatura.csv'\")"
   ]
  },
  {
   "cell_type": "code",
   "execution_count": 24,
   "id": "5f7e485b-5f73-4986-b6bd-25e7719a3d05",
   "metadata": {},
   "outputs": [
    {
     "name": "stdout",
     "output_type": "stream",
     "text": [
      "Número de casos de sepsis: 15880\n",
      "   subject_id  hadm_id_x  seq_num icd_code  icd_version  hadm_id_y  \\\n",
      "0    10000826   21086876        2    99591            9   20032235   \n",
      "1    10000826   21086876        2    99591            9   21086876   \n",
      "2    10000826   21086876        2    99591            9   28289260   \n",
      "3    10001401   27012892        3    R6520           10   20144849   \n",
      "4    10001401   27012892        3    R6520           10   21544441   \n",
      "\n",
      "             admittime            dischtime deathtime  \\\n",
      "0  2146-12-05 19:07:00  2146-12-12 16:30:00       NaN   \n",
      "1  2146-12-18 17:39:00  2146-12-24 19:55:00       NaN   \n",
      "2  2146-12-31 00:43:00  2147-01-02 17:45:00       NaN   \n",
      "3  2136-11-20 14:20:00  2136-11-23 14:00:00       NaN   \n",
      "4  2131-06-04 00:00:00  2131-06-15 16:10:00       NaN   \n",
      "\n",
      "                admission_type admit_provider_id  admission_location  \\\n",
      "0                     EW EMER.            P278S6      EMERGENCY ROOM   \n",
      "1                 DIRECT EMER.            P61YAW     CLINIC REFERRAL   \n",
      "2                     EW EMER.            P19UTS      EMERGENCY ROOM   \n",
      "3            OBSERVATION ADMIT            P43NRJ  PHYSICIAN REFERRAL   \n",
      "4  SURGICAL SAME DAY ADMISSION            P360JE  PHYSICIAN REFERRAL   \n",
      "\n",
      "         discharge_location insurance language marital_status   race  \\\n",
      "0                      HOME   Private  English         SINGLE  WHITE   \n",
      "1                      HOME   Private  English         SINGLE  WHITE   \n",
      "2                      HOME   Private  English         SINGLE  WHITE   \n",
      "3          HOME HEALTH CARE  Medicare  English        MARRIED  WHITE   \n",
      "4  SKILLED NURSING FACILITY  Medicare  English        MARRIED  WHITE   \n",
      "\n",
      "             edregtime            edouttime  hospital_expire_flag  \n",
      "0  2146-12-05 11:09:00  2146-12-05 20:54:00                     0  \n",
      "1                  NaN                  NaN                     0  \n",
      "2  2146-12-30 17:06:00  2146-12-31 02:10:00                     0  \n",
      "3                  NaN                  NaN                     0  \n",
      "4                  NaN                  NaN                     0  \n"
     ]
    }
   ],
   "source": [
    "# Filtramos los pacientes con sepsis con los códigos ICD\n",
    "\n",
    "# ICD9 : 99591 -> sepsis\n",
    "#        99592 -> sepsis severa\n",
    "#        78552 -> septic shock\n",
    "# ICD10 : A419 -> sepsis no especificada (sangre infectada confirmada pero causa sin especificar)\n",
    "#         R6521 -> sepsis severa\n",
    "#         R6520 -> septic shock\n",
    "codigos_sepsis = ['99591', '99592', '78552', 'R6521', 'A419', 'R6520']\n",
    "\n",
    "# Filtrar diagnósticos por códigos de sepsis\n",
    "sepsis_cases = diagnoses[diagnoses['icd_code'].isin(codigos_sepsis)]\n",
    "\n",
    "# Combinar diagnósticos de sepsis con admisiones para obtener detalles\n",
    "sepsis_details = pd.merge(sepsis_cases, admissions, on='subject_id', how='inner')\n",
    "\n",
    "# Mostrar los casos de sepsis\n",
    "print(\"Número de casos de sepsis:\", sepsis_details['subject_id'].nunique())\n",
    "print(sepsis_details.head())"
   ]
  },
  {
   "cell_type": "code",
   "execution_count": 25,
   "id": "74d9fa8e-8cb0-4c39-a7e9-3c151f5c1377",
   "metadata": {},
   "outputs": [
    {
     "name": "stdout",
     "output_type": "stream",
     "text": [
      "[10000826 10001401 10001843 ... 19995732 19997367 19997886]\n",
      "Número de pacientes únicos: 15880\n"
     ]
    }
   ],
   "source": [
    "# Obtenemos una lista con los pacientes unicos con sepsis\n",
    "\n",
    "n_pacientes_unicos_sepsis = sepsis_details['subject_id'].unique()\n",
    "print(n_pacientes_unicos_sepsis)\n",
    "print(f\"Número de pacientes únicos: {sepsis_details['subject_id'].nunique()}\")"
   ]
  },
  {
   "cell_type": "code",
   "execution_count": 26,
   "id": "7f41249e-f203-413d-b839-1abecdc38d9c",
   "metadata": {},
   "outputs": [
    {
     "name": "stdout",
     "output_type": "stream",
     "text": [
      "Resultados guardados en 'CSV/chartevents_sepsis_temperatura.csv'\n"
     ]
    }
   ],
   "source": [
    "# Filtramos chartevents para quedarnos con los sucesos de los casos con ssepsis_cases\n",
    "\n",
    "chartevents_sepsis = chartevents[chartevents['subject_id'].isin(n_pacientes_unicos_sepsis)]\n",
    "\n",
    "# Filtrado por pacientes únicos y múltiples itemid\n",
    "chartevents_sepsis = chartevents[\n",
    "    (chartevents['subject_id'].isin(n_pacientes_unicos_sepsis))]\n",
    "\n",
    "# Guardar los detalles de sepsis en un archivo CSV\n",
    "chartevents_sepsis.to_csv(ruta_guardado +\"chartevents_sepsis_temperatura.csv\", index=False)\n",
    "# Mensaje de finalización\n",
    "print(\"Resultados guardados en 'CSV/chartevents_sepsis_temperatura.csv'\")"
   ]
  },
  {
   "cell_type": "code",
   "execution_count": 27,
   "id": "80f9dcd0-8631-49ec-a6db-88619a703dd6",
   "metadata": {},
   "outputs": [
    {
     "name": "stdout",
     "output_type": "stream",
     "text": [
      "   valuenum valueuom  temperature_C\n",
      "0      97.6       °F           36.4\n",
      "1      97.5       °F           36.4\n",
      "2      97.9       °F           36.6\n",
      "3      37.3       °C           37.3\n",
      "4      37.4       °C           37.4\n",
      "5      37.5       °C           37.5\n",
      "6      37.5       °C           37.5\n",
      "7      37.5       °C           37.5\n",
      "8      37.4       °C           37.4\n",
      "9      37.6       °C           37.6\n",
      "   subject_id   hadm_id   stay_id            charttime  itemid  valuenum  \\\n",
      "0    10001843  26133978  39698942  2134-12-06 00:00:00  223762      36.4   \n",
      "1    10001843  26133978  39698942  2134-12-06 04:00:00  223762      36.4   \n",
      "2    10001843  26133978  39698942  2134-12-05 20:00:00  223762      36.6   \n",
      "3    10002013  23581541  39060235  2160-05-18 20:00:00  223762      37.3   \n",
      "4    10002013  23581541  39060235  2160-05-18 21:00:00  223762      37.4   \n",
      "5    10002013  23581541  39060235  2160-05-18 22:00:00  223762      37.5   \n",
      "6    10002013  23581541  39060235  2160-05-18 23:00:00  223762      37.5   \n",
      "7    10002013  23581541  39060235  2160-05-19 00:00:00  223762      37.5   \n",
      "8    10002013  23581541  39060235  2160-05-19 01:00:00  223762      37.4   \n",
      "9    10002013  23581541  39060235  2160-05-19 02:00:00  223762      37.6   \n",
      "\n",
      "   warning  \n",
      "0      0.0  \n",
      "1      0.0  \n",
      "2      0.0  \n",
      "3      0.0  \n",
      "4      0.0  \n",
      "5      0.0  \n",
      "6      0.0  \n",
      "7      0.0  \n",
      "8      0.0  \n",
      "9      0.0  \n"
     ]
    }
   ],
   "source": [
    "# Pasamos todos los datos a grados celsius\n",
    "\n",
    "chartevents_sepsis = pd.read_csv(ruta_guardado + \"chartevents_sepsis_temperatura.csv\")\n",
    "\n",
    "# Creo una nueva columna, donde si la temperatura se ha tomado en valuenum en Fº se pase a Cº y se copie en la nueva col.\n",
    "# Convertir temperaturas de °F a °C, y crear la nueva columna \"temperature_C\"\n",
    "chartevents_sepsis.loc[:, \"temperature_C\"] = np.where(\n",
    "    chartevents_sepsis[\"valueuom\"] == \"°F\",\n",
    "    ((chartevents_sepsis[\"valuenum\"] - 32) * 5/9).round(1),\n",
    "    chartevents_sepsis[\"valuenum\"].round(1)\n",
    ")\n",
    "\n",
    "# Verifica las primeras filas para comprobar la conversión\n",
    "print(chartevents_sepsis[[\"valuenum\", \"valueuom\", \"temperature_C\"]].head(10))\n",
    "\n",
    "# Elimina la columna \"valueuom\" si existe\n",
    "if \"valueuom\" in chartevents_sepsis.columns:\n",
    "    chartevents_sepsis.drop(columns=[\"valueuom\"], inplace=True)\n",
    "\n",
    "# Reemplaza \"valuenum\" por los valores convertidos a Celsius\n",
    "chartevents_sepsis[\"valuenum\"] = chartevents_sepsis[\"temperature_C\"]\n",
    "\n",
    "# Elimina la columna temporal \"temperature_C\"\n",
    "chartevents_sepsis.drop(columns=[\"temperature_C\", \"value\", \"caregiver_id\", \"storetime\"], inplace=True)\n",
    "\n",
    "# Cambio todos los item_id como medida de temperatura en celsius\n",
    "chartevents_sepsis[\"itemid\"] = 223762\n",
    "\n",
    "# Muestra el resultado final\n",
    "print(chartevents_sepsis.head(10))\n"
   ]
  },
  {
   "cell_type": "code",
   "execution_count": 28,
   "id": "d839f5d3-547b-4691-988a-6a194537e2cc",
   "metadata": {},
   "outputs": [
    {
     "name": "stdout",
     "output_type": "stream",
     "text": [
      "Resultados guardados en 'CSV/chartevents_sepsis_temperatura_celsius.csv'\n"
     ]
    }
   ],
   "source": [
    "# Guardar los detalles de sepsis en un archivo CSV\n",
    "chartevents_sepsis.to_csv(ruta_guardado +\"chartevents_sepsis_temperatura_celsius.csv\", index=False)\n",
    "# Mensaje de finalización\n",
    "print(\"Resultados guardados en 'CSV/chartevents_sepsis_temperatura_celsius.csv'\")"
   ]
  },
  {
   "cell_type": "code",
   "execution_count": 29,
   "id": "600f9938-476c-41ab-98d1-69d3a8cfdd49",
   "metadata": {},
   "outputs": [],
   "source": [
    "archivo_combinado = pd.read_csv(\"C:/Users/BiDAlab/TFG_Alfonso/Pruebas/Modelo1/MIMIC_csv/archivo_combinado_ordenado_MIMIC.csv\")\n",
    "\n",
    "# Agrupar por subject_id y contar el número total de warnings\n",
    "warnings_por_paciente = chartevents_sepsis.groupby(\"subject_id\")[\"warning\"].sum().reset_index()\n",
    "\n",
    "# Renombrar la columna para mayor claridad\n",
    "warnings_por_paciente.rename(columns={\"warning\": \"total_warnings_temperatura\"}, inplace=True)\n",
    "\n",
    "\n",
    "archivo_combinado_final = pd.merge(archivo_combinado, warnings_por_paciente, on='subject_id', how='inner')"
   ]
  },
  {
   "cell_type": "code",
   "execution_count": 30,
   "id": "b799fc2d-42a9-4d10-8a38-490b6b0ae860",
   "metadata": {},
   "outputs": [
    {
     "name": "stdout",
     "output_type": "stream",
     "text": [
      "   subject_id  gender  anchor_age  sis_desviacion  dias_desviacion  \\\n",
      "0    10002013       0          53       16.689746         8.576824   \n",
      "1    10002428       0          80       16.925170        12.605705   \n",
      "2    10003400       0          72       10.814669         9.766610   \n",
      "3    10003637       1          57       16.366693         6.206981   \n",
      "4    10004235       1          47       14.743613        10.639475   \n",
      "\n",
      "   mean_desviacion   sis_media  dias_media  mean_media  sis_mediana  \\\n",
      "0        13.514515  110.619048   61.476190   76.700000        116.0   \n",
      "1        15.075749  110.987220   59.006390   79.524845        109.0   \n",
      "2         9.163913  102.727749   64.884817   78.518325        102.0   \n",
      "3         7.390996  123.716667   54.166667   71.808333        124.5   \n",
      "4        11.361041  108.368421   68.131579   79.815789        104.5   \n",
      "\n",
      "   dias_mediana  mean_mediana  dias_tendencia  sis_tendencia  mean_tendencia  \\\n",
      "0          60.0          75.5   -2.027962e-04  -2.373182e-04   -2.865596e-04   \n",
      "1          57.0          77.0    4.797726e-06  -3.045229e-06    6.146194e-07   \n",
      "2          63.0          77.0   -4.492071e-08  -6.780092e-07   -3.971503e-07   \n",
      "3          54.0          71.0   -3.492624e-05   1.158906e-05    2.565467e-06   \n",
      "4          66.0          78.5    1.624838e-04   1.218655e-04    1.083391e-04   \n",
      "\n",
      "   sepsis  total_warnings_temperatura  \n",
      "0       1                         0.0  \n",
      "1       1                         2.0  \n",
      "2       1                         3.0  \n",
      "3       1                         3.0  \n",
      "4       1                         1.0  \n"
     ]
    }
   ],
   "source": [
    "# Esto solo se aplica a los casos de sepsis, hay que hacer los casos de sepsis y no sepsis por separado\n",
    "\n",
    "print(archivo_combinado_final.head())"
   ]
  },
  {
   "cell_type": "code",
   "execution_count": 31,
   "id": "ff5900bf-57b1-48ba-98f0-ed5dd1499a25",
   "metadata": {},
   "outputs": [],
   "source": [
    "# Ahora hago una lista con los pacientes sin sepsis\n",
    "\n",
    "subject_ids_sepsis_0 = archivo_combinado[archivo_combinado['sepsis'] == 0]['subject_id'].tolist()\n"
   ]
  },
  {
   "cell_type": "code",
   "execution_count": 32,
   "id": "a709f20e-a0b8-4227-a29d-d0a7680b7390",
   "metadata": {},
   "outputs": [
    {
     "name": "stdout",
     "output_type": "stream",
     "text": [
      "Resultados guardados en 'CSV/chartevents_NO_sepsis_temperatura.csv'\n"
     ]
    }
   ],
   "source": [
    "# Miro en chatevents su temperatura\n",
    "\n",
    "# Filtramos chartevents para quedarnos con los sucesos de los casos SIN sepsis\n",
    "\n",
    "chartevents_no_sepsis = chartevents[chartevents['subject_id'].isin(subject_ids_sepsis_0)]\n",
    "\n",
    "# Guardar los detalles de sepsis en un archivo CSV\n",
    "chartevents_no_sepsis.to_csv(ruta_guardado +\"chartevents_NO_sepsis_temperatura.csv\", index=False)\n",
    "# Mensaje de finalización\n",
    "print(\"Resultados guardados en 'CSV/chartevents_NO_sepsis_temperatura.csv'\")"
   ]
  },
  {
   "cell_type": "code",
   "execution_count": 33,
   "id": "a25b30c8-ddc4-4b22-a2f6-50c47621b443",
   "metadata": {},
   "outputs": [
    {
     "name": "stdout",
     "output_type": "stream",
     "text": [
      "   valuenum valueuom  temperature_C\n",
      "0      97.7       °F           36.5\n",
      "1      96.2       °F           35.7\n",
      "2      95.6       °F           35.3\n",
      "3      95.4       °F           35.2\n",
      "4      96.8       °F           36.0\n",
      "5      95.5       °F           35.3\n",
      "6      95.5       °F           35.3\n",
      "7      96.5       °F           35.8\n",
      "8      96.4       °F           35.8\n",
      "9      94.0       °F           34.4\n",
      "   subject_id   hadm_id   stay_id            charttime  itemid  valuenum  \\\n",
      "0    10002155  20345487  32358465  2131-03-09 21:58:00  223762      36.5   \n",
      "1    10002155  20345487  32358465  2131-03-10 00:00:00  223762      35.7   \n",
      "2    10002155  20345487  32358465  2131-03-10 01:00:00  223762      35.3   \n",
      "3    10002155  20345487  32358465  2131-03-10 02:00:00  223762      35.2   \n",
      "4    10002155  20345487  32358465  2131-03-10 03:00:00  223762      36.0   \n",
      "5    10002155  20345487  32358465  2131-03-10 05:00:00  223762      35.3   \n",
      "6    10002155  20345487  32358465  2131-03-10 05:30:00  223762      35.3   \n",
      "7    10002155  20345487  32358465  2131-03-10 05:45:00  223762      35.8   \n",
      "8    10002155  20345487  32358465  2131-03-10 06:00:00  223762      35.8   \n",
      "9    10002155  20345487  32358465  2131-03-10 08:00:00  223762      34.4   \n",
      "\n",
      "   warning  \n",
      "0      0.0  \n",
      "1      0.0  \n",
      "2      0.0  \n",
      "3      0.0  \n",
      "4      0.0  \n",
      "5      0.0  \n",
      "6      0.0  \n",
      "7      0.0  \n",
      "8      0.0  \n",
      "9      0.0  \n"
     ]
    }
   ],
   "source": [
    "# Pasamos todos los datos a grados celsius\n",
    "\n",
    "chartevents_no_sepsis = pd.read_csv(ruta_guardado + \"chartevents_NO_sepsis_temperatura.csv\")\n",
    "\n",
    "# Creo una nueva columna, donde si la temperatura se ha tomado en valuenum en Fº se pase a Cº y se copie en la nueva col.\n",
    "# Convertir temperaturas de °F a °C, y crear la nueva columna \"temperature_C\"\n",
    "chartevents_no_sepsis.loc[:, \"temperature_C\"] = np.where(\n",
    "    chartevents_no_sepsis[\"valueuom\"] == \"°F\",\n",
    "    ((chartevents_no_sepsis[\"valuenum\"] - 32) * 5/9).round(1),\n",
    "    chartevents_no_sepsis[\"valuenum\"].round(1)\n",
    ")\n",
    "\n",
    "# Verifica las primeras filas para comprobar la conversión\n",
    "print(chartevents_no_sepsis[[\"valuenum\", \"valueuom\", \"temperature_C\"]].head(10))\n",
    "\n",
    "# Elimina la columna \"valueuom\" si existe\n",
    "if \"valueuom\" in chartevents_no_sepsis.columns:\n",
    "    chartevents_no_sepsis.drop(columns=[\"valueuom\"], inplace=True)\n",
    "\n",
    "# Reemplaza \"valuenum\" por los valores convertidos a Celsius\n",
    "chartevents_no_sepsis[\"valuenum\"] = chartevents_no_sepsis[\"temperature_C\"]\n",
    "\n",
    "# Elimina la columna temporal \"temperature_C\"\n",
    "chartevents_no_sepsis.drop(columns=[\"temperature_C\", \"value\", \"caregiver_id\", \"storetime\"], inplace=True)\n",
    "\n",
    "# Cambio todos los item_id como medida de temperatura en celsius\n",
    "chartevents_no_sepsis[\"itemid\"] = 223762\n",
    "\n",
    "# Muestra el resultado final\n",
    "print(chartevents_no_sepsis.head(10))\n"
   ]
  },
  {
   "cell_type": "code",
   "execution_count": 34,
   "id": "fe448fc6-a039-4e6e-92dd-149dc4420e25",
   "metadata": {},
   "outputs": [
    {
     "name": "stdout",
     "output_type": "stream",
     "text": [
      "Resultados guardados en 'CSV/archivo_combiando_temperatura.csv'\n"
     ]
    }
   ],
   "source": [
    "# Agrupar por subject_id y contar el número total de warnings\n",
    "warnings_por_paciente = chartevents_no_sepsis.groupby(\"subject_id\")[\"warning\"].sum().reset_index()\n",
    "\n",
    "# Renombrar la columna para mayor claridad\n",
    "warnings_por_paciente.rename(columns={\"warning\": \"total_warnings_temperatura\"}, inplace=True)\n",
    "\n",
    "archivo_combinado_final_2 = pd.merge(archivo_combinado, warnings_por_paciente, on='subject_id', how='inner')\n",
    "\n",
    "archivo_final_final = pd.concat([archivo_combinado_final, archivo_combinado_final_2])\n",
    "\n",
    "# Ordenar por subject_id de menor a mayor\n",
    "archivo_final_final = archivo_final_final.sort_values(by='subject_id').reset_index(drop=True)\n",
    "\n",
    "# Guardar los detalles en un archivo CSV\n",
    "archivo_final_final.to_csv(ruta_guardado +\"archivo_combiando_temperatura.csv\", index=False)\n",
    "# Mensaje de finalización\n",
    "print(\"Resultados guardados en 'CSV/archivo_combiando_temperatura.csv'\")"
   ]
  }
 ],
 "metadata": {
  "kernelspec": {
   "display_name": "Python 3 (ipykernel)",
   "language": "python",
   "name": "python3"
  },
  "language_info": {
   "codemirror_mode": {
    "name": "ipython",
    "version": 3
   },
   "file_extension": ".py",
   "mimetype": "text/x-python",
   "name": "python",
   "nbconvert_exporter": "python",
   "pygments_lexer": "ipython3",
   "version": "3.10.7"
  }
 },
 "nbformat": 4,
 "nbformat_minor": 5
}
