{
 "cells": [
  {
   "cell_type": "raw",
   "id": "92ef9bf2-df62-4088-aa6f-3470c35a595d",
   "metadata": {},
   "source": [
    "CREACIÓN DATASET MODELO 2 V2"
   ]
  },
  {
   "cell_type": "code",
   "execution_count": 1,
   "id": "1401e85e-c649-4666-92b6-96aad8370337",
   "metadata": {},
   "outputs": [],
   "source": [
    "# Import librerias \n",
    "import pandas as pd\n",
    "from sklearn.model_selection import train_test_split\n",
    "from sklearn.ensemble import RandomForestClassifier\n",
    "from sklearn.metrics import accuracy_score, confusion_matrix, classification_report\n",
    "from sklearn.model_selection import GridSearchCV\n",
    "from sklearn.svm import SVC\n",
    "from sklearn.preprocessing import StandardScaler\n",
    "import matplotlib.pyplot as plt\n",
    "import numpy as np"
   ]
  },
  {
   "cell_type": "code",
   "execution_count": 2,
   "id": "e7c93717-7dc8-4806-b86a-b22f129dbeb3",
   "metadata": {},
   "outputs": [],
   "source": [
    "# Rutas de archivos \n",
    "\n",
    "# Ruta donde se encuentran los archivos CSV\n",
    "ruta_datos_mimic = \"C:/Users/BiDAlab/TFG_Alfonso/BBDD/mimic-iv-3.1/mimic-iv-3.1/\" \n",
    "\n",
    "# Importar archivos CSV específicos\n",
    "admissions = pd.read_csv(ruta_datos_mimic + \"hosp/admissions.csv/admissions.csv\")\n",
    "diagnoses = pd.read_csv(ruta_datos_mimic + \"hosp/diagnoses_icd.csv/diagnoses_icd.csv\")\n",
    "icu_stays = pd.read_csv(ruta_datos_mimic + \"icu/icustays.csv/icustays.csv\")\n",
    "\n",
    "# Ruta guardado\n",
    "ruta_guardado = \"C:/Users/BiDAlab/TFG_Alfonso/Pruebas/Modelo2/MIMIC/CSV/V2/\""
   ]
  },
  {
   "cell_type": "code",
   "execution_count": 3,
   "id": "4b0d6071-4738-48a6-b7c4-4bca797390f0",
   "metadata": {},
   "outputs": [
    {
     "name": "stdout",
     "output_type": "stream",
     "text": [
      "Se ha finalizado la lectura de archivos\n",
      "\n"
     ]
    }
   ],
   "source": [
    "# Buscamos en el fichero chartevents (sucesos), los que nos interesan, a través de IDsabs\n",
    "\n",
    "# 220050 -> presion sistólica\n",
    "# 220051 -> presión diastólica\n",
    "# 220052 -> presión mean ([sistólica + 2*diastólica]/3))\n",
    "\n",
    "# 223761 -> temp. corporal Fº\n",
    "# 223762 -> temp. corporal Cº\n",
    "\n",
    "# 220277 -> saturacion oxigeno (SpO2)\n",
    "itemids_interes = [220277]  # IDs de ejemplo\n",
    "chunksize = 1000000\n",
    "\n",
    "filtered_data = []\n",
    "\n",
    "for chunk in pd.read_csv(ruta_datos_mimic + \"icu/chartevents.csv/chartevents.csv\", chunksize=chunksize):\n",
    "    chunk_filtered = chunk[chunk['itemid'].isin(itemids_interes)]\n",
    "    filtered_data.append(chunk_filtered)\n",
    "\n",
    "chartevents = pd.concat(filtered_data)\n",
    "\n",
    "# Mensaje finalización\n",
    "print(f\"Se ha finalizado la lectura de archivos\\n\")"
   ]
  },
  {
   "cell_type": "code",
   "execution_count": 4,
   "id": "48688d26-ea21-4628-989d-e9207bfaf7cd",
   "metadata": {},
   "outputs": [
    {
     "name": "stdout",
     "output_type": "stream",
     "text": [
      "Resultados guardados en 'CSV/chartevents_oxigeno.csv'\n"
     ]
    }
   ],
   "source": [
    "# Guardamos los datos extraidos de chartevents\n",
    "\n",
    "chartevents.to_csv(ruta_guardado +\"chartevents_oxigeno.csv\", index=False)\n",
    "# Mensaje de finalización\n",
    "print(\"Resultados guardados en 'CSV/chartevents_oxigeno.csv'\")"
   ]
  },
  {
   "cell_type": "code",
   "execution_count": 5,
   "id": "cc367130-ddc2-4819-b0c6-8755e888556f",
   "metadata": {},
   "outputs": [
    {
     "name": "stdout",
     "output_type": "stream",
     "text": [
      "Número de casos de sepsis: 15880\n",
      "   subject_id  hadm_id_x  seq_num icd_code  icd_version  hadm_id_y  \\\n",
      "0    10000826   21086876        2    99591            9   20032235   \n",
      "1    10000826   21086876        2    99591            9   21086876   \n",
      "2    10000826   21086876        2    99591            9   28289260   \n",
      "3    10001401   27012892        3    R6520           10   20144849   \n",
      "4    10001401   27012892        3    R6520           10   21544441   \n",
      "\n",
      "             admittime            dischtime deathtime  \\\n",
      "0  2146-12-05 19:07:00  2146-12-12 16:30:00       NaN   \n",
      "1  2146-12-18 17:39:00  2146-12-24 19:55:00       NaN   \n",
      "2  2146-12-31 00:43:00  2147-01-02 17:45:00       NaN   \n",
      "3  2136-11-20 14:20:00  2136-11-23 14:00:00       NaN   \n",
      "4  2131-06-04 00:00:00  2131-06-15 16:10:00       NaN   \n",
      "\n",
      "                admission_type admit_provider_id  admission_location  \\\n",
      "0                     EW EMER.            P278S6      EMERGENCY ROOM   \n",
      "1                 DIRECT EMER.            P61YAW     CLINIC REFERRAL   \n",
      "2                     EW EMER.            P19UTS      EMERGENCY ROOM   \n",
      "3            OBSERVATION ADMIT            P43NRJ  PHYSICIAN REFERRAL   \n",
      "4  SURGICAL SAME DAY ADMISSION            P360JE  PHYSICIAN REFERRAL   \n",
      "\n",
      "         discharge_location insurance language marital_status   race  \\\n",
      "0                      HOME   Private  English         SINGLE  WHITE   \n",
      "1                      HOME   Private  English         SINGLE  WHITE   \n",
      "2                      HOME   Private  English         SINGLE  WHITE   \n",
      "3          HOME HEALTH CARE  Medicare  English        MARRIED  WHITE   \n",
      "4  SKILLED NURSING FACILITY  Medicare  English        MARRIED  WHITE   \n",
      "\n",
      "             edregtime            edouttime  hospital_expire_flag  \n",
      "0  2146-12-05 11:09:00  2146-12-05 20:54:00                     0  \n",
      "1                  NaN                  NaN                     0  \n",
      "2  2146-12-30 17:06:00  2146-12-31 02:10:00                     0  \n",
      "3                  NaN                  NaN                     0  \n",
      "4                  NaN                  NaN                     0  \n"
     ]
    }
   ],
   "source": [
    "# Filtramos los pacientes con sepsis con los códigos ICD\n",
    "\n",
    "# ICD9 : 99591 -> sepsis\n",
    "#        99592 -> sepsis severa\n",
    "#        78552 -> septic shock\n",
    "# ICD10 : A419 -> sepsis no especificada (sangre infectada confirmada pero causa sin especificar)\n",
    "#         R6521 -> sepsis severa\n",
    "#         R6520 -> septic shock\n",
    "codigos_sepsis = ['99591', '99592', '78552', 'R6521', 'A419', 'R6520']\n",
    "\n",
    "# Filtrar diagnósticos por códigos de sepsis\n",
    "sepsis_cases = diagnoses[diagnoses['icd_code'].isin(codigos_sepsis)]\n",
    "\n",
    "# Combinar diagnósticos de sepsis con admisiones para obtener detalles\n",
    "sepsis_details = pd.merge(sepsis_cases, admissions, on='subject_id', how='inner')\n",
    "\n",
    "# Mostrar los casos de sepsis\n",
    "print(\"Número de casos de sepsis:\", sepsis_details['subject_id'].nunique())\n",
    "print(sepsis_details.head())"
   ]
  },
  {
   "cell_type": "code",
   "execution_count": 6,
   "id": "e60d28b3-e567-4d74-b332-4f035b4ba0a2",
   "metadata": {},
   "outputs": [
    {
     "name": "stdout",
     "output_type": "stream",
     "text": [
      "[10000826 10001401 10001843 ... 19995732 19997367 19997886]\n",
      "Número de pacientes únicos: 15880\n"
     ]
    }
   ],
   "source": [
    "# Obtenemos una lista con los pacientes unicos con sepsis\n",
    "\n",
    "n_pacientes_unicos_sepsis = sepsis_details['subject_id'].unique()\n",
    "print(n_pacientes_unicos_sepsis)\n",
    "print(f\"Número de pacientes únicos: {sepsis_details['subject_id'].nunique()}\")"
   ]
  },
  {
   "cell_type": "code",
   "execution_count": 7,
   "id": "c41f4c25-dd68-4591-acc9-275469c471fe",
   "metadata": {},
   "outputs": [
    {
     "name": "stdout",
     "output_type": "stream",
     "text": [
      "Resultados guardados en 'CSV/chartevents_sepsis_oxigeno.csv'\n"
     ]
    }
   ],
   "source": [
    "# Filtramos chartevents para quedarnos con los sucesos de los casos con ssepsis_cases\n",
    "\n",
    "chartevents_sepsis = chartevents[chartevents['subject_id'].isin(n_pacientes_unicos_sepsis)]\n",
    "\n",
    "# Filtrado por pacientes únicos y múltiples itemid\n",
    "chartevents_sepsis = chartevents[\n",
    "    (chartevents['subject_id'].isin(n_pacientes_unicos_sepsis))]\n",
    "\n",
    "# Guardar los detalles de sepsis en un archivo CSV\n",
    "chartevents_sepsis.to_csv(ruta_guardado +\"chartevents_sepsis_oxigeno.csv\", index=False)\n",
    "# Mensaje de finalización\n",
    "print(\"Resultados guardados en 'CSV/chartevents_sepsis_oxigeno.csv'\")"
   ]
  },
  {
   "cell_type": "code",
   "execution_count": 8,
   "id": "6cfab1db-b6e3-42fd-86b2-bdade213c0ed",
   "metadata": {},
   "outputs": [],
   "source": [
    "# Vamos a añadir como características : \n",
    "#       2. Nº de veces que pasa por debajo de 90 % (hipoxemia)\n",
    "# Trabajaré sobre la última hospitalización del paciente\n",
    "\n",
    "chartevents_sepsis = pd.read_csv(ruta_guardado + \"chartevents_sepsis_oxigeno.csv\")\n",
    "\n",
    "# Borramos columnas inutiles\n",
    "chartevents_sepsis = chartevents_sepsis.drop(['value', 'valueuom', 'itemid', 'storetime', 'caregiver_id'], axis=1)\n",
    "\n",
    "# Convertir charttime con formato explícito para cada grupo\n",
    "chartevents_sepsis['charttime_numeric'] = pd.to_datetime(chartevents_sepsis['charttime'], format='%Y-%m-%d %H:%M:%S', errors='coerce')\n",
    "\n",
    "# Convertir a segundos desde epoch\n",
    "chartevents_sepsis['charttime_numeric_s'] = chartevents_sepsis['charttime_numeric'].astype(np.int64) / 10**9\n",
    "# Obtener la última medición de presión arterial por paciente\n",
    "ultimo_oxigeno = (\n",
    "    chartevents_sepsis.groupby('hadm_id')['charttime']\n",
    "    .max()\n",
    "    .reset_index()\n",
    "    .rename(columns={'charttime': 'ultima_charttime'})\n",
    ")\n",
    "\n",
    "# Unir con el dataset original para añadir la última hora de medición de cada paciente\n",
    "df = chartevents_sepsis.merge(ultimo_oxigeno, on='hadm_id', how='left')\n",
    "\n",
    "df['ultima_charttime'] = pd.to_datetime(df['ultima_charttime'], format='%Y-%m-%d %H:%M:%S', errors='coerce')\n",
    "\n",
    "df['ultima_charttime'] = df['ultima_charttime'].astype(np.int64) / 10**9\n",
    "\n",
    "df = df.drop(['charttime'],axis= 1)\n",
    "\n",
    "df.to_csv(ruta_guardado +\"borrar.csv\", index=False)\n"
   ]
  },
  {
   "cell_type": "code",
   "execution_count": 9,
   "id": "d3c11b10-69f3-4c42-9f63-d67d63a89b9e",
   "metadata": {},
   "outputs": [
    {
     "name": "stdout",
     "output_type": "stream",
     "text": [
      "   subject_id   hadm_id   stay_id  valuenum  warning   charttime_numeric  \\\n",
      "0    10001843  26133978  39698942      84.0      0.0 2134-12-06 07:11:00   \n",
      "1    10001843  26133978  39698942      97.0      0.0 2134-12-06 08:06:00   \n",
      "2    10001843  26133978  39698942      97.0      0.0 2134-12-06 09:53:00   \n",
      "3    10001843  26133978  39698942      97.0      0.0 2134-12-06 10:04:00   \n",
      "4    10001843  26133978  39698942      97.0      0.0 2134-12-05 23:00:00   \n",
      "\n",
      "   charttime_numeric_s  ultima_charttime  \n",
      "0         5.204675e+09      5.204686e+09  \n",
      "1         5.204679e+09      5.204686e+09  \n",
      "2         5.204685e+09      5.204686e+09  \n",
      "3         5.204686e+09      5.204686e+09  \n",
      "4         5.204646e+09      5.204686e+09  \n"
     ]
    }
   ],
   "source": [
    "print(df.head())\n",
    "\n"
   ]
  },
  {
   "cell_type": "code",
   "execution_count": 10,
   "id": "15cb6207-99b7-49fd-b135-575e8b84704e",
   "metadata": {},
   "outputs": [],
   "source": [
    "# Paso 1: Identificar la última hospitalización por subject_id\n",
    "ultima_hospitalizacion = (\n",
    "    df.groupby('subject_id')['ultima_charttime']\n",
    "    .max()\n",
    "    .reset_index()\n",
    "    .rename(columns={'ultima_charttime': 'max_ultima_charttime'})\n",
    ")\n",
    "\n",
    "# Paso 2: Unir esta información con el DataFrame original\n",
    "df_filtrado = df.merge(ultima_hospitalizacion, on='subject_id', how='left')\n",
    "\n",
    "# Paso 3: Filtrar solo las filas donde ultima_charttime coincide con la última hospitalización\n",
    "df_ultima_hosp = df_filtrado[df_filtrado['ultima_charttime'] == df_filtrado['max_ultima_charttime']]\n",
    "\n",
    "# Paso 4: Opcional: eliminar la columna auxiliar 'max_ultima_charttime' si no es necesaria\n",
    "df_ultima_hosp = df_ultima_hosp.drop(columns=['max_ultima_charttime', 'stay_id', 'hadm_id'])\n",
    "\n",
    "# Guardar el resultado final\n",
    "df_ultima_hosp.to_csv(ruta_guardado + \"ultima_hospitalizacion.csv\", index=False)"
   ]
  },
  {
   "cell_type": "code",
   "execution_count": 11,
   "id": "190165ff-2e90-4dff-ae9d-dc65e0813b7e",
   "metadata": {},
   "outputs": [
    {
     "name": "stdout",
     "output_type": "stream",
     "text": [
      "   subject_id  valuenum  warning   charttime_numeric  charttime_numeric_s  \\\n",
      "0    10001843      84.0      0.0 2134-12-06 07:11:00         5.204675e+09   \n",
      "1    10001843      97.0      0.0 2134-12-06 08:06:00         5.204679e+09   \n",
      "2    10001843      97.0      0.0 2134-12-06 09:53:00         5.204685e+09   \n",
      "3    10001843      97.0      0.0 2134-12-06 10:04:00         5.204686e+09   \n",
      "4    10001843      97.0      0.0 2134-12-05 23:00:00         5.204646e+09   \n",
      "\n",
      "   ultima_charttime  \n",
      "0      5.204686e+09  \n",
      "1      5.204686e+09  \n",
      "2      5.204686e+09  \n",
      "3      5.204686e+09  \n",
      "4      5.204686e+09  \n"
     ]
    }
   ],
   "source": [
    "print(df_ultima_hosp.head())"
   ]
  },
  {
   "cell_type": "code",
   "execution_count": 13,
   "id": "cd0f3295-3c6c-4ed6-aa75-7a988cf1a60b",
   "metadata": {},
   "outputs": [],
   "source": [
    "df_ultima_hosp['warning'] = np.where(df_ultima_hosp['valuenum'] < 90, 1.0, df_ultima_hosp['warning'])\n",
    "\n",
    "# Guardar el resultado si es necesario\n",
    "df_ultima_hosp.to_csv(ruta_guardado + \"ultima_hospitalizacion.csv\", index=False)"
   ]
  },
  {
   "cell_type": "code",
   "execution_count": 14,
   "id": "27817c3d-6b70-4e86-8eb2-51fb84043956",
   "metadata": {},
   "outputs": [
    {
     "name": "stdout",
     "output_type": "stream",
     "text": [
      "   subject_id  total_warnings_oxigeno\n",
      "0    10001843                     2.0\n",
      "1    10002013                     0.0\n",
      "2    10002428                     0.0\n",
      "3    10003019                     0.0\n",
      "4    10003400                     3.0\n"
     ]
    }
   ],
   "source": [
    "# Sumo todos los warnings por subject_id de la última hospitalización\n",
    "\n",
    "# Agrupar por subject_id y contar el número total de warnings\n",
    "warnings_por_paciente = df_ultima_hosp.groupby(\"subject_id\")[\"warning\"].sum().reset_index()\n",
    "\n",
    "# Renombrar la columna para mayor claridad\n",
    "warnings_por_paciente.rename(columns={\"warning\": \"total_warnings_oxigeno\"}, inplace=True)\n",
    "\n",
    "print(warnings_por_paciente.head())"
   ]
  },
  {
   "cell_type": "code",
   "execution_count": 16,
   "id": "e9c4ce16-6de8-4e78-a884-4d886dbe2127",
   "metadata": {},
   "outputs": [
    {
     "name": "stdout",
     "output_type": "stream",
     "text": [
      "   subject_id  gender  anchor_age  sis_desviacion  dias_desviacion  \\\n",
      "0    10002013       0          53       16.689746         8.576824   \n",
      "1    10002428       0          80       16.925170        12.605705   \n",
      "2    10003400       0          72       10.814669         9.766610   \n",
      "3    10003637       1          57       16.366693         6.206981   \n",
      "4    10004235       1          47       14.743613        10.639475   \n",
      "\n",
      "   mean_desviacion   sis_media  dias_media  mean_media  sis_mediana  \\\n",
      "0        13.514515  110.619048   61.476190   76.700000        116.0   \n",
      "1        15.075749  110.987220   59.006390   79.524845        109.0   \n",
      "2         9.163913  102.727749   64.884817   78.518325        102.0   \n",
      "3         7.390996  123.716667   54.166667   71.808333        124.5   \n",
      "4        11.361041  108.368421   68.131579   79.815789        104.5   \n",
      "\n",
      "   dias_mediana  mean_mediana  dias_tendencia  sis_tendencia  mean_tendencia  \\\n",
      "0          60.0          75.5   -2.027962e-04  -2.373182e-04   -2.865596e-04   \n",
      "1          57.0          77.0    4.797726e-06  -3.045229e-06    6.146194e-07   \n",
      "2          63.0          77.0   -4.492071e-08  -6.780092e-07   -3.971503e-07   \n",
      "3          54.0          71.0   -3.492624e-05   1.158906e-05    2.565467e-06   \n",
      "4          66.0          78.5    1.624838e-04   1.218655e-04    1.083391e-04   \n",
      "\n",
      "   sepsis  total_warnings_temperatura  total_warnings_oxigeno  \n",
      "0       1                         0.0                     0.0  \n",
      "1       1                         2.0                     0.0  \n",
      "2       1                         3.0                     3.0  \n",
      "3       1                         3.0                     2.0  \n",
      "4       1                         1.0                     2.0  \n"
     ]
    }
   ],
   "source": [
    "# Añado esta característica al fichero de características del MODELO2_V1 (parte ssepsis_cases)\n",
    "\n",
    "archivo_estadísticas = pd.read_csv(\"C:/Users/BiDAlab/TFG_Alfonso/Pruebas/Modelo2/MIMIC/CSV/V1/archivo_combiando_temperatura.csv\")\n",
    "\n",
    "archivo_estadísticas_sepsis = pd.merge(archivo_estadísticas, warnings_por_paciente, on='subject_id', how='inner')\n",
    "\n",
    "print(archivo_estadísticas_sepsis.head())"
   ]
  },
  {
   "cell_type": "code",
   "execution_count": 19,
   "id": "c8b9dea1-f7d8-4881-9248-7c40116f63bb",
   "metadata": {},
   "outputs": [
    {
     "name": "stdout",
     "output_type": "stream",
     "text": [
      "Resultados guardados en 'CSV/chartevents_NO_sepsis_oxigeno.csv'\n"
     ]
    }
   ],
   "source": [
    "# Realizamos lo mismo pero para los pacientes sin sepsis\n",
    "\n",
    "# Ahora hago una lista con los pacientes sin sepsis\n",
    "subject_ids_sepsis_0 = archivo_estadísticas[archivo_estadísticas['sepsis'] == 0]['subject_id'].tolist()\n",
    "\n",
    "# Miro en chatevents su oxigeno\n",
    "\n",
    "# Filtramos chartevents para quedarnos con los sucesos de los casos SIN sepsis\n",
    "chartevents_no_sepsis = chartevents[chartevents['subject_id'].isin(subject_ids_sepsis_0)]\n",
    "\n",
    "# Guardar los detalles de sepsis en un archivo CSV\n",
    "chartevents_no_sepsis.to_csv(ruta_guardado +\"chartevents_NO_sepsis_oxigeno.csv\", index=False)\n",
    "# Mensaje de finalización\n",
    "print(\"Resultados guardados en 'CSV/chartevents_NO_sepsis_oxigeno.csv'\")"
   ]
  },
  {
   "cell_type": "code",
   "execution_count": 20,
   "id": "f0fc922b-e599-4d25-9032-d1ad8f73d1b0",
   "metadata": {},
   "outputs": [],
   "source": [
    "# Vamos a añadir como características : \n",
    "#       1. Valor max. y min. en las últimas 24 h.\n",
    "# Trabajaré sobre la última hospitalización del paciente\n",
    "\n",
    "chartevents_no_sepsis = pd.read_csv(ruta_guardado + \"chartevents_NO_sepsis_oxigeno.csv\")\n",
    "\n",
    "# Borramos columnas inutiles\n",
    "chartevents_no_sepsis = chartevents_no_sepsis.drop(['value', 'valueuom', 'itemid', 'storetime', 'caregiver_id'], axis=1)\n",
    "\n",
    "# Convertir charttime con formato explícito para cada grupo\n",
    "chartevents_no_sepsis['charttime_numeric'] = pd.to_datetime(chartevents_no_sepsis['charttime'], format='%Y-%m-%d %H:%M:%S', errors='coerce')\n",
    "\n",
    "# Convertir a segundos desde epoch\n",
    "chartevents_no_sepsis['charttime_numeric_s'] = chartevents_no_sepsis['charttime_numeric'].astype(np.int64) / 10**9\n",
    "# Obtener la última medición de presión arterial por paciente\n",
    "ultimo_oxigeno = (\n",
    "    chartevents_no_sepsis.groupby('hadm_id')['charttime']\n",
    "    .max()\n",
    "    .reset_index()\n",
    "    .rename(columns={'charttime': 'ultima_charttime'})\n",
    ")\n",
    "\n",
    "# Unir con el dataset original para añadir la última hora de medición de cada paciente\n",
    "df = chartevents_no_sepsis.merge(ultimo_oxigeno, on='hadm_id', how='left')\n",
    "\n",
    "df['ultima_charttime'] = pd.to_datetime(df['ultima_charttime'], format='%Y-%m-%d %H:%M:%S', errors='coerce')\n",
    "\n",
    "df['ultima_charttime'] = df['ultima_charttime'].astype(np.int64) / 10**9\n",
    "\n",
    "df = df.drop(['charttime'],axis= 1)\n",
    "\n",
    "df.to_csv(ruta_guardado +\"borrar_no_sepsis.csv\", index=False)\n"
   ]
  },
  {
   "cell_type": "code",
   "execution_count": 21,
   "id": "8d3384b4-e87d-42a4-b0b4-02a9a5421080",
   "metadata": {},
   "outputs": [],
   "source": [
    "# Paso 1: Identificar la última hospitalización por subject_id\n",
    "ultima_hospitalizacion = (\n",
    "    df.groupby('subject_id')['ultima_charttime']\n",
    "    .max()\n",
    "    .reset_index()\n",
    "    .rename(columns={'ultima_charttime': 'max_ultima_charttime'})\n",
    ")\n",
    "\n",
    "# Paso 2: Unir esta información con el DataFrame original\n",
    "df_filtrado = df.merge(ultima_hospitalizacion, on='subject_id', how='left')\n",
    "\n",
    "# Paso 3: Filtrar solo las filas donde ultima_charttime coincide con la última hospitalización\n",
    "df_ultima_hosp = df_filtrado[df_filtrado['ultima_charttime'] == df_filtrado['max_ultima_charttime']]\n",
    "\n",
    "# Paso 4: Opcional: eliminar la columna auxiliar 'max_ultima_charttime' si no es necesaria\n",
    "df_ultima_hosp = df_ultima_hosp.drop(columns=['max_ultima_charttime', 'stay_id', 'hadm_id'])\n",
    "\n",
    "# Guardar el resultado final\n",
    "df_ultima_hosp.to_csv(ruta_guardado + \"ultima_hospitalizacion_NO_sepsis.csv\", index=False)"
   ]
  },
  {
   "cell_type": "code",
   "execution_count": 22,
   "id": "ecd1996d-299e-4aad-9e62-4511911508f9",
   "metadata": {},
   "outputs": [],
   "source": [
    "df_ultima_hosp['warning'] = np.where(df_ultima_hosp['valuenum'] < 90, 1.0, df_ultima_hosp['warning'])\n",
    "\n",
    "# Guardar el resultado si es necesario\n",
    "df_ultima_hosp.to_csv(ruta_guardado + \"ultima_hospitalizacion_NO_sepsis.csv\", index=False)"
   ]
  },
  {
   "cell_type": "code",
   "execution_count": 25,
   "id": "2340dc13-5160-435f-bbc8-1be7f88afaed",
   "metadata": {},
   "outputs": [
    {
     "name": "stdout",
     "output_type": "stream",
     "text": [
      "   subject_id  total_warnings_oxigeno\n",
      "0    10002155                     7.0\n",
      "1    10002760                     0.0\n",
      "2    10004606                     0.0\n",
      "3    10004764                     1.0\n",
      "4    10005866                     2.0\n"
     ]
    }
   ],
   "source": [
    "# Sumo todos los warnings por subject_id de la última hospitalización\n",
    "\n",
    "# Agrupar por subject_id y contar el número total de warnings\n",
    "warnings_por_paciente = df_ultima_hosp.groupby(\"subject_id\")[\"warning\"].sum().reset_index()\n",
    "\n",
    "# Renombrar la columna para mayor claridad\n",
    "warnings_por_paciente.rename(columns={\"warning\": \"total_warnings_oxigeno\"}, inplace=True)\n",
    "\n",
    "print(warnings_por_paciente.head())"
   ]
  },
  {
   "cell_type": "code",
   "execution_count": 26,
   "id": "38024c67-bc28-4060-96bc-5c6c92a1ed8b",
   "metadata": {},
   "outputs": [
    {
     "name": "stdout",
     "output_type": "stream",
     "text": [
      "   subject_id  gender  anchor_age  sis_desviacion  dias_desviacion  \\\n",
      "0    10002155       0          80        9.555103         7.056912   \n",
      "1    10002760       1          56        9.953648         4.998814   \n",
      "2    10004606       0          64       24.549849         7.013110   \n",
      "3    10004764       1          70       13.304104         4.511060   \n",
      "4    10005866       1          57       13.605328         5.313636   \n",
      "\n",
      "   mean_desviacion   sis_media  dias_media  mean_media  sis_mediana  \\\n",
      "0         8.105554  113.400000   57.400000   80.200000        115.0   \n",
      "1         5.984499  108.434783   57.521739   74.217391        107.0   \n",
      "2        12.932371  152.151515   51.939394   80.606061        154.0   \n",
      "3         5.075356  118.581395   45.162791   67.651163        120.0   \n",
      "4        12.339189  116.017241   57.103448   75.086207        114.5   \n",
      "\n",
      "   dias_mediana  mean_mediana  dias_tendencia  sis_tendencia  mean_tendencia  \\\n",
      "0          59.0          82.0        0.001853       0.001318        0.001507   \n",
      "1          56.0          72.0        0.000119       0.000045        0.000046   \n",
      "2          52.0          79.0        0.000108      -0.000003        0.000058   \n",
      "3          44.0          67.0        0.000126      -0.000033        0.000002   \n",
      "4          57.0          76.0       -0.000107      -0.000046       -0.000072   \n",
      "\n",
      "   sepsis  total_warnings_temperatura  total_warnings_oxigeno  \n",
      "0       0                         0.0                     7.0  \n",
      "1       0                         0.0                     0.0  \n",
      "2       0                         0.0                     0.0  \n",
      "3       0                         0.0                     1.0  \n",
      "4       0                         0.0                     2.0  \n"
     ]
    }
   ],
   "source": [
    "# Añado esta característica al fichero de características del MODELO2_V1 (parteno sepsis)\n",
    "\n",
    "archivo_estadísticas_NO_sepsis = pd.merge(archivo_estadísticas, warnings_por_paciente, on='subject_id', how='inner')\n",
    "\n",
    "print(archivo_estadísticas_NO_sepsis.head())"
   ]
  },
  {
   "cell_type": "code",
   "execution_count": 31,
   "id": "c16906aa-c2b5-4967-9274-d03ffd42caf7",
   "metadata": {},
   "outputs": [
    {
     "name": "stdout",
     "output_type": "stream",
     "text": [
      "Resultados guardados en 'CSV/archivo_combiando_oxigeno.csv'\n"
     ]
    }
   ],
   "source": [
    "# Combino los archivos de sepsis y de no ssepsis_cases\n",
    "\n",
    "archivo_final = pd.concat([archivo_estadísticas_sepsis, archivo_estadísticas_NO_sepsis])\n",
    "\n",
    "# Ordenar por subject_id de menor a mayor\n",
    "archivo_final = archivo_final.sort_values(by='subject_id').reset_index(drop=True)\n",
    "\n",
    "# Guardar los detalles en un archivo CSV\n",
    "archivo_final.to_csv(ruta_guardado +\"archivo_combiando_oxigeno.csv\", index=False)\n",
    "# Mensaje de finalización\n",
    "print(\"Resultados guardados en 'CSV/archivo_combiando_oxigeno.csv'\")"
   ]
  },
  {
   "cell_type": "code",
   "execution_count": 2,
   "id": "fae4a2e4-ae7b-42d0-96c4-3eb711e805ca",
   "metadata": {},
   "outputs": [
    {
     "ename": "NameError",
     "evalue": "name 'archivo_final' is not defined",
     "output_type": "error",
     "traceback": [
      "\u001b[1;31m---------------------------------------------------------------------------\u001b[0m",
      "\u001b[1;31mNameError\u001b[0m                                 Traceback (most recent call last)",
      "Cell \u001b[1;32mIn[2], line 2\u001b[0m\n\u001b[0;32m      1\u001b[0m \u001b[38;5;66;03m# Eliminar duplicados quedándote con el último (keep='last')\u001b[39;00m\n\u001b[1;32m----> 2\u001b[0m ultima_medicion \u001b[38;5;241m=\u001b[39m \u001b[43marchivo_final\u001b[49m\u001b[38;5;241m.\u001b[39mdrop_duplicates(subset\u001b[38;5;241m=\u001b[39m\u001b[38;5;124m'\u001b[39m\u001b[38;5;124msubject_id\u001b[39m\u001b[38;5;124m'\u001b[39m, keep\u001b[38;5;241m=\u001b[39m\u001b[38;5;124m'\u001b[39m\u001b[38;5;124mlast\u001b[39m\u001b[38;5;124m'\u001b[39m)\n\u001b[0;32m      4\u001b[0m \u001b[38;5;66;03m# Guardar los detalles en un archivo CSV\u001b[39;00m\n\u001b[0;32m      5\u001b[0m ultima_medicion\u001b[38;5;241m.\u001b[39mto_csv(ruta_guardado \u001b[38;5;241m+\u001b[39m\u001b[38;5;124m\"\u001b[39m\u001b[38;5;124marchivo_combiando_oxigeno_ultimo.csv\u001b[39m\u001b[38;5;124m\"\u001b[39m, index\u001b[38;5;241m=\u001b[39m\u001b[38;5;28;01mFalse\u001b[39;00m)\n",
      "\u001b[1;31mNameError\u001b[0m: name 'archivo_final' is not defined"
     ]
    }
   ],
   "source": [
    "\n",
    "\n"
   ]
  }
 ],
 "metadata": {
  "kernelspec": {
   "display_name": "Python 3 (ipykernel)",
   "language": "python",
   "name": "python3"
  },
  "language_info": {
   "codemirror_mode": {
    "name": "ipython",
    "version": 3
   },
   "file_extension": ".py",
   "mimetype": "text/x-python",
   "name": "python",
   "nbconvert_exporter": "python",
   "pygments_lexer": "ipython3",
   "version": "3.10.7"
  }
 },
 "nbformat": 4,
 "nbformat_minor": 5
}
