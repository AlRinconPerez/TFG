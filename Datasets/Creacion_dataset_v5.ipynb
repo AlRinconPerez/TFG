{
 "cells": [
  {
   "cell_type": "raw",
   "id": "e6a4777b-4d51-45c4-bb41-f8ea8aa785a7",
   "metadata": {},
   "source": [
    "CREACIÓN DATASET V5"
   ]
  },
  {
   "cell_type": "raw",
   "id": "07d5e8f5-1d65-48cf-b1c2-b6c4e1df8155",
   "metadata": {},
   "source": [
    "Ideas pendientes: añadir como característica el indice masa corporal (IMC)\n",
    "                  añadir la tendencia del SpO2"
   ]
  }
 ],
 "metadata": {
  "kernelspec": {
   "display_name": "Python 3 (ipykernel)",
   "language": "python",
   "name": "python3"
  },
  "language_info": {
   "codemirror_mode": {
    "name": "ipython",
    "version": 3
   },
   "file_extension": ".py",
   "mimetype": "text/x-python",
   "name": "python",
   "nbconvert_exporter": "python",
   "pygments_lexer": "ipython3",
   "version": "3.10.7"
  }
 },
 "nbformat": 4,
 "nbformat_minor": 5
}
