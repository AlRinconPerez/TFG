{
 "cells": [
  {
   "cell_type": "raw",
   "id": "e6a4777b-4d51-45c4-bb41-f8ea8aa785a7",
   "metadata": {},
   "source": [
    "CREACIÓN DATASET V5"
   ]
  },
  {
   "cell_type": "raw",
   "id": "07d5e8f5-1d65-48cf-b1c2-b6c4e1df8155",
   "metadata": {},
   "source": [
    "Ideas pendientes: añadir como característica el indice masa corporal (IMC)\n",
    "                  añadir la tendencia del SpO2"
   ]
  },
  {
   "cell_type": "code",
   "execution_count": 34,
   "id": "4e8132bd",
   "metadata": {},
   "outputs": [],
   "source": [
    "# Import librerias \n",
    "import pandas as pd\n",
    "from sklearn.model_selection import train_test_split\n",
    "from sklearn.ensemble import RandomForestClassifier\n",
    "from sklearn.metrics import accuracy_score, confusion_matrix, classification_report\n",
    "from sklearn.model_selection import GridSearchCV\n",
    "from sklearn.svm import SVC\n",
    "from sklearn.preprocessing import StandardScaler\n",
    "import matplotlib.pyplot as plt\n",
    "import numpy as np\n",
    "from scipy.stats import linregress"
   ]
  },
  {
   "cell_type": "code",
   "execution_count": 35,
   "id": "2c61d288",
   "metadata": {},
   "outputs": [],
   "source": [
    "# Rutas de archivos \n",
    "\n",
    "# Ruta donde se encuentran los archivos CSV\n",
    "ruta_datos_mimic = \"C:/Users/BiDAlab/TFG_Alfonso/BBDD/mimic-iv-3.1/mimic-iv-3.1/\" \n",
    "\n",
    "# Importar archivos CSV específicos\n",
    "admissions = pd.read_csv(ruta_datos_mimic + \"hosp/admissions.csv/admissions.csv\")\n",
    "diagnoses = pd.read_csv(ruta_datos_mimic + \"hosp/diagnoses_icd.csv/diagnoses_icd.csv\")\n",
    "icu_stays = pd.read_csv(ruta_datos_mimic + \"icu/icustays.csv/icustays.csv\")\n",
    "\n",
    "# Ruta guardado\n",
    "ruta_guardado = \"C:/Users/BiDAlab/TFG_Alfonso/Pruebas/Modelo2/MIMIC/CSV/V5/\""
   ]
  },
  {
   "cell_type": "code",
   "execution_count": 36,
   "id": "3afa854d",
   "metadata": {},
   "outputs": [
    {
     "name": "stdout",
     "output_type": "stream",
     "text": [
      "Se ha finalizado la lectura de archivos\n",
      "\n"
     ]
    }
   ],
   "source": [
    "# Buscamos en el fichero chartevents (sucesos), los que nos interesan, a través de IDsabs\n",
    "\n",
    "# 220050 -> presion sistólica\n",
    "# 220051 -> presión diastólica\n",
    "# 220052 -> presión mean ([sistólica + 2*diastólica]/3))\n",
    "\n",
    "# 223761 -> temp. corporal Fº\n",
    "# 223762 -> temp. corporal Cº\n",
    "\n",
    "# 220277 -> saturacion oxigeno (SpO2)\n",
    "itemids_interes = [220277]  # IDs de ejemplo\n",
    "chunksize = 1000000\n",
    "\n",
    "filtered_data = []\n",
    "\n",
    "for chunk in pd.read_csv(ruta_datos_mimic + \"icu/chartevents.csv/chartevents.csv\", chunksize=chunksize):\n",
    "    chunk_filtered = chunk[chunk['itemid'].isin(itemids_interes)]\n",
    "    filtered_data.append(chunk_filtered)\n",
    "\n",
    "chartevents = pd.concat(filtered_data)\n",
    "\n",
    "# Mensaje finalización\n",
    "print(f\"Se ha finalizado la lectura de archivos\\n\")"
   ]
  },
  {
   "cell_type": "code",
   "execution_count": 37,
   "id": "4bb257d4",
   "metadata": {},
   "outputs": [
    {
     "name": "stdout",
     "output_type": "stream",
     "text": [
      "Resultados guardados en 'CSV/chartevents_oxigeno.csv'\n"
     ]
    }
   ],
   "source": [
    "# Guardamos los datos extraidos de chartevents\n",
    "\n",
    "chartevents.to_csv(ruta_guardado +\"chartevents_oxigeno.csv\", index=False)\n",
    "# Mensaje de finalización\n",
    "print(\"Resultados guardados en 'CSV/chartevents_oxigeno.csv'\")"
   ]
  },
  {
   "cell_type": "code",
   "execution_count": 38,
   "id": "611ff2d7",
   "metadata": {},
   "outputs": [
    {
     "name": "stdout",
     "output_type": "stream",
     "text": [
      "Número de casos de sepsis: 15880\n",
      "   subject_id  hadm_id_x  seq_num icd_code  icd_version  hadm_id_y  \\\n",
      "0    10000826   21086876        2    99591            9   20032235   \n",
      "1    10000826   21086876        2    99591            9   21086876   \n",
      "2    10000826   21086876        2    99591            9   28289260   \n",
      "3    10001401   27012892        3    R6520           10   20144849   \n",
      "4    10001401   27012892        3    R6520           10   21544441   \n",
      "\n",
      "             admittime            dischtime deathtime  \\\n",
      "0  2146-12-05 19:07:00  2146-12-12 16:30:00       NaN   \n",
      "1  2146-12-18 17:39:00  2146-12-24 19:55:00       NaN   \n",
      "2  2146-12-31 00:43:00  2147-01-02 17:45:00       NaN   \n",
      "3  2136-11-20 14:20:00  2136-11-23 14:00:00       NaN   \n",
      "4  2131-06-04 00:00:00  2131-06-15 16:10:00       NaN   \n",
      "\n",
      "                admission_type admit_provider_id  admission_location  \\\n",
      "0                     EW EMER.            P278S6      EMERGENCY ROOM   \n",
      "1                 DIRECT EMER.            P61YAW     CLINIC REFERRAL   \n",
      "2                     EW EMER.            P19UTS      EMERGENCY ROOM   \n",
      "3            OBSERVATION ADMIT            P43NRJ  PHYSICIAN REFERRAL   \n",
      "4  SURGICAL SAME DAY ADMISSION            P360JE  PHYSICIAN REFERRAL   \n",
      "\n",
      "         discharge_location insurance language marital_status   race  \\\n",
      "0                      HOME   Private  English         SINGLE  WHITE   \n",
      "1                      HOME   Private  English         SINGLE  WHITE   \n",
      "2                      HOME   Private  English         SINGLE  WHITE   \n",
      "3          HOME HEALTH CARE  Medicare  English        MARRIED  WHITE   \n",
      "4  SKILLED NURSING FACILITY  Medicare  English        MARRIED  WHITE   \n",
      "\n",
      "             edregtime            edouttime  hospital_expire_flag  \n",
      "0  2146-12-05 11:09:00  2146-12-05 20:54:00                     0  \n",
      "1                  NaN                  NaN                     0  \n",
      "2  2146-12-30 17:06:00  2146-12-31 02:10:00                     0  \n",
      "3                  NaN                  NaN                     0  \n",
      "4                  NaN                  NaN                     0  \n"
     ]
    }
   ],
   "source": [
    "# Filtramos los pacientes con sepsis con los códigos ICD\n",
    "\n",
    "# ICD9 : 99591 -> sepsis\n",
    "#        99592 -> sepsis severa\n",
    "#        78552 -> septic shock\n",
    "# ICD10 : A419 -> sepsis no especificada (sangre infectada confirmada pero causa sin especificar)\n",
    "#         R6521 -> sepsis severa\n",
    "#         R6520 -> septic shock\n",
    "codigos_sepsis = ['99591', '99592', '78552', 'R6521', 'A419', 'R6520']\n",
    "\n",
    "# Filtrar diagnósticos por códigos de sepsis\n",
    "sepsis_cases = diagnoses[diagnoses['icd_code'].isin(codigos_sepsis)]\n",
    "\n",
    "# Combinar diagnósticos de sepsis con admisiones para obtener detalles\n",
    "sepsis_details = pd.merge(sepsis_cases, admissions, on='subject_id', how='inner')\n",
    "\n",
    "# Mostrar los casos de sepsis\n",
    "print(\"Número de casos de sepsis:\", sepsis_details['subject_id'].nunique())\n",
    "print(sepsis_details.head())"
   ]
  },
  {
   "cell_type": "code",
   "execution_count": 39,
   "id": "e49878fb",
   "metadata": {},
   "outputs": [
    {
     "name": "stdout",
     "output_type": "stream",
     "text": [
      "[10000826 10001401 10001843 ... 19995732 19997367 19997886]\n",
      "Número de pacientes únicos: 15880\n"
     ]
    }
   ],
   "source": [
    "# Obtenemos una lista con los pacientes unicos con sepsis\n",
    "\n",
    "n_pacientes_unicos_sepsis = sepsis_details['subject_id'].unique()\n",
    "print(n_pacientes_unicos_sepsis)\n",
    "print(f\"Número de pacientes únicos: {sepsis_details['subject_id'].nunique()}\")"
   ]
  },
  {
   "cell_type": "code",
   "execution_count": 40,
   "id": "0fcb003c",
   "metadata": {},
   "outputs": [
    {
     "name": "stdout",
     "output_type": "stream",
     "text": [
      "Resultados guardados en 'CSV/chartevents_sepsis_oxigeno.csv'\n"
     ]
    }
   ],
   "source": [
    "# Filtramos chartevents para quedarnos con los sucesos de los casos con ssepsis_cases\n",
    "\n",
    "chartevents_sepsis = chartevents[chartevents['subject_id'].isin(n_pacientes_unicos_sepsis)]\n",
    "\n",
    "# Filtrado por pacientes únicos y múltiples itemid\n",
    "chartevents_sepsis = chartevents[\n",
    "    (chartevents['subject_id'].isin(n_pacientes_unicos_sepsis))]\n",
    "\n",
    "# Guardar los detalles de sepsis en un archivo CSV\n",
    "chartevents_sepsis.to_csv(ruta_guardado +\"chartevents_sepsis_oxigeno.csv\", index=False)\n",
    "# Mensaje de finalización\n",
    "print(\"Resultados guardados en 'CSV/chartevents_sepsis_oxigeno.csv'\")"
   ]
  },
  {
   "cell_type": "code",
   "execution_count": 41,
   "id": "66e38621",
   "metadata": {},
   "outputs": [],
   "source": [
    "# Vamos a añadir como características : \n",
    "#       1. Tendencia de la saturación de oxígeno (SpO2) en la última hospitalización\n",
    "# Trabajaré sobre la última hospitalización del paciente\n",
    "\n",
    "chartevents_sepsis = pd.read_csv(ruta_guardado + \"chartevents_sepsis_oxigeno.csv\")\n",
    "\n",
    "# Borramos columnas inutiles\n",
    "chartevents_sepsis = chartevents_sepsis.drop(['value', 'valueuom', 'itemid', 'storetime', 'caregiver_id'], axis=1)\n",
    "\n",
    "# Convertir charttime con formato explícito para cada grupo\n",
    "chartevents_sepsis['charttime_numeric'] = pd.to_datetime(chartevents_sepsis['charttime'], format='%Y-%m-%d %H:%M:%S', errors='coerce')\n",
    "\n",
    "# Convertir a segundos desde epoch\n",
    "chartevents_sepsis['charttime_numeric_s'] = chartevents_sepsis['charttime_numeric'].astype(np.int64) / 10**9\n",
    "# Obtener la última medición de presión arterial por paciente\n",
    "ultimo_oxigeno = (\n",
    "    chartevents_sepsis.groupby('hadm_id')['charttime']\n",
    "    .max()\n",
    "    .reset_index()\n",
    "    .rename(columns={'charttime': 'ultima_charttime'})\n",
    ")\n",
    "\n",
    "# Unir con el dataset original para añadir la última hora de medición de cada paciente\n",
    "df = chartevents_sepsis.merge(ultimo_oxigeno, on='hadm_id', how='left')\n",
    "\n",
    "df['ultima_charttime'] = pd.to_datetime(df['ultima_charttime'], format='%Y-%m-%d %H:%M:%S', errors='coerce')\n",
    "\n",
    "df['ultima_charttime'] = df['ultima_charttime'].astype(np.int64) / 10**9\n",
    "\n",
    "df = df.drop(['charttime'],axis= 1)\n",
    "\n",
    "df.to_csv(ruta_guardado +\"borrar.csv\", index=False)\n"
   ]
  },
  {
   "cell_type": "code",
   "execution_count": 42,
   "id": "dc127491",
   "metadata": {},
   "outputs": [
    {
     "name": "stdout",
     "output_type": "stream",
     "text": [
      "   subject_id   hadm_id   stay_id  valuenum  warning   charttime_numeric  \\\n",
      "0    10001843  26133978  39698942      84.0      0.0 2134-12-06 07:11:00   \n",
      "1    10001843  26133978  39698942      97.0      0.0 2134-12-06 08:06:00   \n",
      "2    10001843  26133978  39698942      97.0      0.0 2134-12-06 09:53:00   \n",
      "3    10001843  26133978  39698942      97.0      0.0 2134-12-06 10:04:00   \n",
      "4    10001843  26133978  39698942      97.0      0.0 2134-12-05 23:00:00   \n",
      "\n",
      "   charttime_numeric_s  ultima_charttime  \n",
      "0         5.204675e+09      5.204686e+09  \n",
      "1         5.204679e+09      5.204686e+09  \n",
      "2         5.204685e+09      5.204686e+09  \n",
      "3         5.204686e+09      5.204686e+09  \n",
      "4         5.204646e+09      5.204686e+09  \n"
     ]
    }
   ],
   "source": [
    "print(df.head())"
   ]
  },
  {
   "cell_type": "code",
   "execution_count": 43,
   "id": "e9513dac",
   "metadata": {},
   "outputs": [],
   "source": [
    "# Paso 1: Identificar la última hospitalización por subject_id\n",
    "ultima_hospitalizacion = (\n",
    "    df.groupby('subject_id')['ultima_charttime']\n",
    "    .max()\n",
    "    .reset_index()\n",
    "    .rename(columns={'ultima_charttime': 'max_ultima_charttime'})\n",
    ")\n",
    "\n",
    "# Paso 2: Unir esta información con el DataFrame original\n",
    "df_filtrado = df.merge(ultima_hospitalizacion, on='subject_id', how='left')\n",
    "\n",
    "# Paso 3: Filtrar solo las filas donde ultima_charttime coincide con la última hospitalización\n",
    "df_ultima_hosp = df_filtrado[df_filtrado['ultima_charttime'] == df_filtrado['max_ultima_charttime']]\n",
    "\n",
    "# Paso 4: Opcional: eliminar la columna auxiliar 'max_ultima_charttime' si no es necesaria\n",
    "df_ultima_hosp = df_ultima_hosp.drop(columns=['max_ultima_charttime', 'stay_id', 'hadm_id'])\n",
    "\n",
    "# Guardar el resultado final\n",
    "df_ultima_hosp.to_csv(ruta_guardado + \"ultima_hospitalizacion.csv\", index=False)"
   ]
  },
  {
   "cell_type": "code",
   "execution_count": 44,
   "id": "093b9617",
   "metadata": {},
   "outputs": [
    {
     "name": "stdout",
     "output_type": "stream",
     "text": [
      "   subject_id  valuenum  warning   charttime_numeric  charttime_numeric_s  \\\n",
      "0    10001843      84.0      0.0 2134-12-06 07:11:00         5.204675e+09   \n",
      "1    10001843      97.0      0.0 2134-12-06 08:06:00         5.204679e+09   \n",
      "2    10001843      97.0      0.0 2134-12-06 09:53:00         5.204685e+09   \n",
      "3    10001843      97.0      0.0 2134-12-06 10:04:00         5.204686e+09   \n",
      "4    10001843      97.0      0.0 2134-12-05 23:00:00         5.204646e+09   \n",
      "\n",
      "   ultima_charttime  \n",
      "0      5.204686e+09  \n",
      "1      5.204686e+09  \n",
      "2      5.204686e+09  \n",
      "3      5.204686e+09  \n",
      "4      5.204686e+09  \n"
     ]
    }
   ],
   "source": [
    "print(df_ultima_hosp.head())"
   ]
  },
  {
   "cell_type": "code",
   "execution_count": 52,
   "id": "5f6b4c5e",
   "metadata": {},
   "outputs": [],
   "source": [
    "# Función para calcular la tendencia usando regresión lineal\n",
    "def calcular_tendencia(df):\n",
    "    if len(df) < 2:\n",
    "        return np.nan  # No se puede calcular la pendiente con menos de 2 puntos\n",
    "\n",
    "    # Calcular la pendiente (tendencia) usando regresión lineal\n",
    "    slope, _, _, _, _ = linregress(df['charttime_numeric_s'], df['valuenum'])\n",
    "    return slope"
   ]
  },
  {
   "cell_type": "code",
   "execution_count": 53,
   "id": "03c79c80",
   "metadata": {},
   "outputs": [],
   "source": [
    "# Calcular la tendencia para cada grupo (solo con valuenum)\n",
    "tendencias = (\n",
    "    df_ultima_hosp\n",
    "    .groupby(['subject_id'])\n",
    "    .apply(lambda x: calcular_tendencia(x[['charttime_numeric_s', 'valuenum']]))  # Seleccionar solo las columnas necesarias\n",
    "    .reset_index(name='tendencia_SpO2')\n",
    ")"
   ]
  },
  {
   "cell_type": "code",
   "execution_count": 54,
   "id": "4a3eed3c",
   "metadata": {},
   "outputs": [
    {
     "name": "stdout",
     "output_type": "stream",
     "text": [
      "   subject_id  tendencia_SpO2\n",
      "0    10001843    3.477912e-05\n",
      "1    10002013   -2.372516e-05\n",
      "2    10002428   -4.702920e-08\n",
      "3    10003019    3.691212e-05\n",
      "4    10003400   -1.567494e-06\n"
     ]
    }
   ],
   "source": [
    "print(tendencias.head())"
   ]
  },
  {
   "cell_type": "code",
   "execution_count": 55,
   "id": "9ff97c85",
   "metadata": {},
   "outputs": [
    {
     "name": "stdout",
     "output_type": "stream",
     "text": [
      "   subject_id  gender  anchor_age  sis_desviacion  dias_desviacion  \\\n",
      "0    10002013       0          53       16.689746         8.576824   \n",
      "1    10002428       0          80       16.925170        12.605705   \n",
      "2    10003400       0          72       10.814669         9.766610   \n",
      "3    10003637       1          57       16.366693         6.206981   \n",
      "4    10004235       1          47       14.743613        10.639475   \n",
      "\n",
      "   mean_desviacion   sis_media  dias_media  mean_media  sis_mediana  ...  \\\n",
      "0        13.514515  110.619048   61.476190   76.700000        116.0  ...   \n",
      "1        15.075749  110.987220   59.006390   79.524845        109.0  ...   \n",
      "2         9.163913  102.727749   64.884817   78.518325        102.0  ...   \n",
      "3         7.390996  123.716667   54.166667   71.808333        124.5  ...   \n",
      "4        11.361041  108.368421   68.131579   79.815789        104.5  ...   \n",
      "\n",
      "   mean_mediana  dias_tendencia  sis_tendencia  mean_tendencia  sepsis  \\\n",
      "0          75.5   -2.027962e-04  -2.373182e-04   -2.865596e-04       1   \n",
      "1          77.0    4.797726e-06  -3.045229e-06    6.146194e-07       1   \n",
      "2          77.0   -4.492071e-08  -6.780092e-07   -3.971503e-07       1   \n",
      "3          71.0   -3.492624e-05   1.158906e-05    2.565467e-06       1   \n",
      "4          78.5    1.624838e-04   1.218655e-04    1.083391e-04       1   \n",
      "\n",
      "   total_warnings_temperatura  total_warnings_oxigeno  oxigeno_min_24h  \\\n",
      "0                         0.0                     0.0             91.0   \n",
      "1                         2.0                     0.0             96.0   \n",
      "2                         3.0                     3.0             92.0   \n",
      "3                         3.0                     2.0             94.0   \n",
      "4                         1.0                     2.0             93.0   \n",
      "\n",
      "   oxigeno_max_24h  tendencia_SpO2  \n",
      "0            100.0   -2.372516e-05  \n",
      "1            100.0   -4.702920e-08  \n",
      "2            100.0   -1.567494e-06  \n",
      "3            100.0    6.788728e-07  \n",
      "4             99.0   -1.702499e-06  \n",
      "\n",
      "[5 rows x 21 columns]\n"
     ]
    }
   ],
   "source": [
    "# Añado esta característica al fichero de características del MODELO2_V3 (parte sepsis)\n",
    "# Leo el archivo con las estadísticas\n",
    "archivo_estadísticas = pd.read_csv(\"C:/Users/BiDAlab/TFG_Alfonso/Pruebas/Modelo2/MIMIC/CSV/V3/archivo_combiando_oxigeno_max_min.csv\")\n",
    "# Solo obtengo los datos de los pacientes con sepsis\n",
    "archivo_estadísticas_sepsis = archivo_estadísticas[archivo_estadísticas['subject_id'].isin(n_pacientes_unicos_sepsis)]\n",
    "# Añado la tendencia\n",
    "archivo_estadísticas_sepsis = pd.merge(archivo_estadísticas_sepsis, tendencias, on='subject_id', how='left')\n",
    "archivo_estadísticas_sepsis[\"tendencia_SpO2\"] = archivo_estadísticas_sepsis[\"tendencia_SpO2\"].fillna(0)\n",
    "\n",
    "print(archivo_estadísticas_sepsis.head())"
   ]
  },
  {
   "cell_type": "code",
   "execution_count": 56,
   "id": "fa951430",
   "metadata": {},
   "outputs": [
    {
     "name": "stdout",
     "output_type": "stream",
     "text": [
      "Resultados guardados en 'CSV/chartevents_NO_sepsis_oxigeno.csv'\n"
     ]
    }
   ],
   "source": [
    "# Realizo el mismo proceso para los pacientes sin sepsis\n",
    "\n",
    "# Ahora hago una lista con los pacientes sin sepsis\n",
    "subject_ids_sepsis_0 = archivo_estadísticas[archivo_estadísticas['sepsis'] == 0]['subject_id'].tolist()\n",
    "\n",
    "# Miro en chatevents su oxigeno\n",
    "\n",
    "# Filtramos chartevents para quedarnos con los sucesos de los casos SIN sepsis\n",
    "chartevents_no_sepsis = chartevents[chartevents['subject_id'].isin(subject_ids_sepsis_0)]\n",
    "\n",
    "# Guardar los detalles de sepsis en un archivo CSV\n",
    "chartevents_no_sepsis.to_csv(ruta_guardado +\"chartevents_NO_sepsis_oxigeno.csv\", index=False)\n",
    "# Mensaje de finalización\n",
    "print(\"Resultados guardados en 'CSV/chartevents_NO_sepsis_oxigeno.csv'\")"
   ]
  },
  {
   "cell_type": "code",
   "execution_count": 57,
   "id": "76405789",
   "metadata": {},
   "outputs": [],
   "source": [
    "# Vamos a añadir como características : \n",
    "#       1. Tendencia de la saturación de oxígeno (SpO2) en la última hospitalización\n",
    "# Trabajaré sobre la última hospitalización del paciente\n",
    "\n",
    "chartevents_no_sepsis = pd.read_csv(ruta_guardado + \"chartevents_NO_sepsis_oxigeno.csv\")\n",
    "\n",
    "# Borramos columnas inutiles\n",
    "chartevents_no_sepsis = chartevents_no_sepsis.drop(['value', 'valueuom', 'itemid', 'storetime', 'caregiver_id'], axis=1)\n",
    "\n",
    "# Convertir charttime con formato explícito para cada grupo\n",
    "chartevents_no_sepsis['charttime_numeric'] = pd.to_datetime(chartevents_no_sepsis['charttime'], format='%Y-%m-%d %H:%M:%S', errors='coerce')\n",
    "\n",
    "# Convertir a segundos desde epoch\n",
    "chartevents_no_sepsis['charttime_numeric_s'] = chartevents_no_sepsis['charttime_numeric'].astype(np.int64) / 10**9\n",
    "# Obtener la última medición de presión arterial por paciente\n",
    "ultimo_oxigeno = (\n",
    "    chartevents_no_sepsis.groupby('hadm_id')['charttime']\n",
    "    .max()\n",
    "    .reset_index()\n",
    "    .rename(columns={'charttime': 'ultima_charttime'})\n",
    ")\n",
    "\n",
    "# Unir con el dataset original para añadir la última hora de medición de cada paciente\n",
    "df = chartevents_no_sepsis.merge(ultimo_oxigeno, on='hadm_id', how='left')\n",
    "\n",
    "df['ultima_charttime'] = pd.to_datetime(df['ultima_charttime'], format='%Y-%m-%d %H:%M:%S', errors='coerce')\n",
    "\n",
    "df['ultima_charttime'] = df['ultima_charttime'].astype(np.int64) / 10**9\n",
    "\n",
    "df = df.drop(['charttime'],axis= 1)\n",
    "\n",
    "df.to_csv(ruta_guardado +\"borrar.csv\", index=False)\n"
   ]
  },
  {
   "cell_type": "code",
   "execution_count": 58,
   "id": "4520b830",
   "metadata": {},
   "outputs": [],
   "source": [
    "# Paso 1: Identificar la última hospitalización por subject_id\n",
    "ultima_hospitalizacion = (\n",
    "    df.groupby('subject_id')['ultima_charttime']\n",
    "    .max()\n",
    "    .reset_index()\n",
    "    .rename(columns={'ultima_charttime': 'max_ultima_charttime'})\n",
    ")\n",
    "\n",
    "# Paso 2: Unir esta información con el DataFrame original\n",
    "df_filtrado = df.merge(ultima_hospitalizacion, on='subject_id', how='left')\n",
    "\n",
    "# Paso 3: Filtrar solo las filas donde ultima_charttime coincide con la última hospitalización\n",
    "df_ultima_hosp = df_filtrado[df_filtrado['ultima_charttime'] == df_filtrado['max_ultima_charttime']]\n",
    "\n",
    "# Paso 4: Opcional: eliminar la columna auxiliar 'max_ultima_charttime' si no es necesaria\n",
    "df_ultima_hosp = df_ultima_hosp.drop(columns=['max_ultima_charttime', 'stay_id', 'hadm_id'])\n",
    "\n",
    "# Guardar el resultado final\n",
    "df_ultima_hosp.to_csv(ruta_guardado + \"ultima_hospitalizacion.csv\", index=False)"
   ]
  },
  {
   "cell_type": "code",
   "execution_count": 59,
   "id": "6230fe15",
   "metadata": {},
   "outputs": [],
   "source": [
    "# Calcular la tendencia para cada grupo (solo con valuenum)\n",
    "tendencias = (\n",
    "    df_ultima_hosp\n",
    "    .groupby(['subject_id'])\n",
    "    .apply(lambda x: calcular_tendencia(x[['charttime_numeric_s', 'valuenum']]))  # Seleccionar solo las columnas necesarias\n",
    "    .reset_index(name='tendencia_SpO2')\n",
    ")"
   ]
  },
  {
   "cell_type": "code",
   "execution_count": 60,
   "id": "b573f8ea",
   "metadata": {},
   "outputs": [
    {
     "name": "stdout",
     "output_type": "stream",
     "text": [
      "   subject_id  tendencia_SpO2\n",
      "0    10002155        0.000056\n",
      "1    10002760       -0.000023\n",
      "2    10004606       -0.000008\n",
      "3    10004764       -0.000003\n",
      "4    10005866       -0.000017\n"
     ]
    }
   ],
   "source": [
    "print(tendencias.head())"
   ]
  },
  {
   "cell_type": "code",
   "execution_count": 61,
   "id": "987cf078",
   "metadata": {},
   "outputs": [
    {
     "name": "stdout",
     "output_type": "stream",
     "text": [
      "   subject_id  gender  anchor_age  sis_desviacion  dias_desviacion  \\\n",
      "0    10002155       0          80        9.555103         7.056912   \n",
      "1    10002760       1          56        9.953648         4.998814   \n",
      "2    10004606       0          64       24.549849         7.013110   \n",
      "3    10004764       1          70       13.304104         4.511060   \n",
      "4    10005866       1          57       13.605328         5.313636   \n",
      "\n",
      "   mean_desviacion   sis_media  dias_media  mean_media  sis_mediana  ...  \\\n",
      "0         8.105554  113.400000   57.400000   80.200000        115.0  ...   \n",
      "1         5.984499  108.434783   57.521739   74.217391        107.0  ...   \n",
      "2        12.932371  152.151515   51.939394   80.606061        154.0  ...   \n",
      "3         5.075356  118.581395   45.162791   67.651163        120.0  ...   \n",
      "4        12.339189  116.017241   57.103448   75.086207        114.5  ...   \n",
      "\n",
      "   mean_mediana  dias_tendencia  sis_tendencia  mean_tendencia  sepsis  \\\n",
      "0          82.0        0.001853       0.001318        0.001507       0   \n",
      "1          72.0        0.000119       0.000045        0.000046       0   \n",
      "2          79.0        0.000108      -0.000003        0.000058       0   \n",
      "3          67.0        0.000126      -0.000033        0.000002       0   \n",
      "4          76.0       -0.000107      -0.000046       -0.000072       0   \n",
      "\n",
      "   total_warnings_temperatura  total_warnings_oxigeno  oxigeno_min_24h  \\\n",
      "0                         0.0                     7.0             90.0   \n",
      "1                         0.0                     0.0             92.0   \n",
      "2                         0.0                     0.0             93.0   \n",
      "3                         0.0                     1.0             93.0   \n",
      "4                         0.0                     2.0             90.0   \n",
      "\n",
      "   oxigeno_max_24h  tendencia_SpO2  \n",
      "0            100.0        0.000056  \n",
      "1            100.0       -0.000023  \n",
      "2            100.0       -0.000008  \n",
      "3             98.0       -0.000003  \n",
      "4             95.0       -0.000017  \n",
      "\n",
      "[5 rows x 21 columns]\n"
     ]
    }
   ],
   "source": [
    "# Añado esta característica al fichero de características del MODELO2_V3 (parte sepsis)\n",
    "\n",
    "archivo_estadísticas_NO_sepsis = archivo_estadísticas[archivo_estadísticas['subject_id'].isin(subject_ids_sepsis_0)]\n",
    "# Añado la tendencia\n",
    "archivo_estadísticas_NO_sepsis = pd.merge(archivo_estadísticas_NO_sepsis, tendencias, on='subject_id', how='left')\n",
    "archivo_estadísticas_NO_sepsis[\"tendencia_SpO2\"] = archivo_estadísticas_NO_sepsis[\"tendencia_SpO2\"].fillna(0)\n",
    "\n",
    "print(archivo_estadísticas_NO_sepsis.head())"
   ]
  },
  {
   "cell_type": "code",
   "execution_count": 62,
   "id": "29dd8d2d",
   "metadata": {},
   "outputs": [
    {
     "name": "stdout",
     "output_type": "stream",
     "text": [
      "Resultados guardados en 'CSV/archivo_combiando_v5.csv'\n"
     ]
    }
   ],
   "source": [
    "# Combino los archivos de sepsis y de no ssepsis_cases\n",
    "\n",
    "archivo_final = pd.concat([archivo_estadísticas_sepsis, archivo_estadísticas_NO_sepsis])\n",
    "\n",
    "# Ordenar por subject_id de menor a mayor\n",
    "archivo_final = archivo_final.sort_values(by='subject_id').reset_index(drop=True)\n",
    "\n",
    "# Guardar los detalles en un archivo CSV\n",
    "archivo_final.to_csv(ruta_guardado +\"archivo_combiando_v5.csv\", index=False)\n",
    "# Mensaje de finalización\n",
    "print(\"Resultados guardados en 'CSV/archivo_combiando_v5.csv'\")"
   ]
  }
 ],
 "metadata": {
  "kernelspec": {
   "display_name": "Python 3",
   "language": "python",
   "name": "python3"
  },
  "language_info": {
   "codemirror_mode": {
    "name": "ipython",
    "version": 3
   },
   "file_extension": ".py",
   "mimetype": "text/x-python",
   "name": "python",
   "nbconvert_exporter": "python",
   "pygments_lexer": "ipython3",
   "version": "3.10.7"
  }
 },
 "nbformat": 4,
 "nbformat_minor": 5
}
