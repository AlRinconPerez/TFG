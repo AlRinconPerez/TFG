{
 "cells": [
  {
   "cell_type": "raw",
   "id": "312fa603-ebf9-495f-99cf-f3d430f7c064",
   "metadata": {},
   "source": [
    "CREACIÓN DATASET MODELO 2 V4"
   ]
  },
  {
   "cell_type": "code",
   "execution_count": 1,
   "id": "48df6b02-5909-42db-93b4-a7b1f9aaa1be",
   "metadata": {},
   "outputs": [],
   "source": [
    "# Import librerias \n",
    "import pandas as pd\n",
    "from sklearn.model_selection import train_test_split\n",
    "from sklearn.ensemble import RandomForestClassifier\n",
    "from sklearn.metrics import accuracy_score, confusion_matrix, classification_report\n",
    "from sklearn.model_selection import GridSearchCV\n",
    "from sklearn.svm import SVC\n",
    "from sklearn.preprocessing import StandardScaler\n",
    "import matplotlib.pyplot as plt\n",
    "import numpy as np"
   ]
  },
  {
   "cell_type": "code",
   "execution_count": 2,
   "id": "f9955aa8-62fe-4431-8d4b-d16a11c3bf99",
   "metadata": {},
   "outputs": [],
   "source": [
    "# Rutas de archivos \n",
    "\n",
    "# Ruta donde se encuentran los archivos CSV\n",
    "ruta_datos_mimic = \"C:/Users/BiDAlab/TFG_Alfonso/BBDD/mimic-iv-3.1/mimic-iv-3.1/\" \n",
    "\n",
    "# Importar archivos CSV específicos\n",
    "admissions = pd.read_csv(ruta_datos_mimic + \"hosp/admissions.csv/admissions.csv\")\n",
    "diagnoses = pd.read_csv(ruta_datos_mimic + \"hosp/diagnoses_icd.csv/diagnoses_icd.csv\")\n",
    "icu_stays = pd.read_csv(ruta_datos_mimic + \"icu/icustays.csv/icustays.csv\")\n",
    "\n",
    "# Ruta guardado\n",
    "ruta_guardado = \"C:/Users/BiDAlab/TFG_Alfonso/Pruebas/Modelo2/MIMIC/CSV/V4/\""
   ]
  },
  {
   "cell_type": "code",
   "execution_count": 3,
   "id": "a42023e6-76f5-4ab9-8965-ba2d4f00af55",
   "metadata": {},
   "outputs": [],
   "source": [
    "# Items id de los antibioticos administrados\n",
    "\n",
    "itemids_interes = [225837, 225838, 225840, 225842, 225843, 225844, 225845, 225847, 225848, 225850, 225851, 225853, 225855, 225857, 225859, 225860, 225862, 225863, \n",
    "                   225865, 225866, 225868, 225869, 225871, 225873, 225875, 225876, 225877, 225879, 225881, 225882, 225883, 225884, 225885, 225886, 225888, 225889,\n",
    "                   225890, 225892, 225893, 225895, 225896, 225897, 225898, 225899, 225900, 225902, 225903, 225905 ]  # IDs de ejemplo\n",
    "chunksize = 1000000\n",
    "\n",
    "filtered_data = []\n",
    "\n",
    "for chunk in pd.read_csv(ruta_datos_mimic + \"icu/inputevents.csv/inputevents.csv\", chunksize=chunksize):\n",
    "    chunk_filtered = chunk[chunk['itemid'].isin(itemids_interes)]\n",
    "    filtered_data.append(chunk_filtered)\n",
    "\n",
    "chartevents = pd.concat(filtered_data)"
   ]
  },
  {
   "cell_type": "code",
   "execution_count": 4,
   "id": "3dd8bb56-c9a8-439c-8974-9ac1dd7032b8",
   "metadata": {},
   "outputs": [
    {
     "name": "stdout",
     "output_type": "stream",
     "text": [
      "Resultados guardados en 'CSV/chartevents_v4.csv'\n"
     ]
    }
   ],
   "source": [
    "# Guardamos los datos extraidos de chartevents\n",
    "\n",
    "chartevents.to_csv(ruta_guardado +\"chartevents_v4.csv\", index=False)\n",
    "# Mensaje de finalización\n",
    "print(\"Resultados guardados en 'CSV/chartevents_v4.csv'\")"
   ]
  },
  {
   "cell_type": "code",
   "execution_count": 5,
   "id": "afe6429b-119a-4633-ab5f-0b69ffd84960",
   "metadata": {},
   "outputs": [
    {
     "name": "stdout",
     "output_type": "stream",
     "text": [
      "Número de casos de sepsis: 15880\n",
      "   subject_id  hadm_id_x  seq_num icd_code  icd_version  hadm_id_y  \\\n",
      "0    10000826   21086876        2    99591            9   20032235   \n",
      "1    10000826   21086876        2    99591            9   21086876   \n",
      "2    10000826   21086876        2    99591            9   28289260   \n",
      "3    10001401   27012892        3    R6520           10   20144849   \n",
      "4    10001401   27012892        3    R6520           10   21544441   \n",
      "\n",
      "             admittime            dischtime deathtime  \\\n",
      "0  2146-12-05 19:07:00  2146-12-12 16:30:00       NaN   \n",
      "1  2146-12-18 17:39:00  2146-12-24 19:55:00       NaN   \n",
      "2  2146-12-31 00:43:00  2147-01-02 17:45:00       NaN   \n",
      "3  2136-11-20 14:20:00  2136-11-23 14:00:00       NaN   \n",
      "4  2131-06-04 00:00:00  2131-06-15 16:10:00       NaN   \n",
      "\n",
      "                admission_type admit_provider_id  admission_location  \\\n",
      "0                     EW EMER.            P278S6      EMERGENCY ROOM   \n",
      "1                 DIRECT EMER.            P61YAW     CLINIC REFERRAL   \n",
      "2                     EW EMER.            P19UTS      EMERGENCY ROOM   \n",
      "3            OBSERVATION ADMIT            P43NRJ  PHYSICIAN REFERRAL   \n",
      "4  SURGICAL SAME DAY ADMISSION            P360JE  PHYSICIAN REFERRAL   \n",
      "\n",
      "         discharge_location insurance language marital_status   race  \\\n",
      "0                      HOME   Private  English         SINGLE  WHITE   \n",
      "1                      HOME   Private  English         SINGLE  WHITE   \n",
      "2                      HOME   Private  English         SINGLE  WHITE   \n",
      "3          HOME HEALTH CARE  Medicare  English        MARRIED  WHITE   \n",
      "4  SKILLED NURSING FACILITY  Medicare  English        MARRIED  WHITE   \n",
      "\n",
      "             edregtime            edouttime  hospital_expire_flag  \n",
      "0  2146-12-05 11:09:00  2146-12-05 20:54:00                     0  \n",
      "1                  NaN                  NaN                     0  \n",
      "2  2146-12-30 17:06:00  2146-12-31 02:10:00                     0  \n",
      "3                  NaN                  NaN                     0  \n",
      "4                  NaN                  NaN                     0  \n"
     ]
    }
   ],
   "source": [
    "# Filtramos los pacientes con sepsis con los códigos ICD\n",
    "\n",
    "# ICD9 : 99591 -> sepsis\n",
    "#        99592 -> sepsis severa\n",
    "#        78552 -> septic shock\n",
    "# ICD10 : A419 -> sepsis no especificada (sangre infectada confirmada pero causa sin especificar)\n",
    "#         R6521 -> sepsis severa\n",
    "#         R6520 -> septic shock\n",
    "codigos_sepsis = ['99591', '99592', '78552', 'R6521', 'A419', 'R6520']\n",
    "\n",
    "# Filtrar diagnósticos por códigos de sepsis\n",
    "sepsis_cases = diagnoses[diagnoses['icd_code'].isin(codigos_sepsis)]\n",
    "\n",
    "# Combinar diagnósticos de sepsis con admisiones para obtener detalles\n",
    "sepsis_details = pd.merge(sepsis_cases, admissions, on='subject_id', how='inner')\n",
    "\n",
    "# Mostrar los casos de sepsis\n",
    "print(\"Número de casos de sepsis:\", sepsis_details['subject_id'].nunique())\n",
    "print(sepsis_details.head())"
   ]
  },
  {
   "cell_type": "code",
   "execution_count": 6,
   "id": "4a9c2042-ff39-40b5-b3f8-e2b8c96264d3",
   "metadata": {},
   "outputs": [
    {
     "name": "stdout",
     "output_type": "stream",
     "text": [
      "[10000826 10001401 10001843 ... 19995732 19997367 19997886]\n",
      "Número de pacientes únicos: 15880\n"
     ]
    }
   ],
   "source": [
    "# Obtenemos una lista con los pacientes unicos con sepsis\n",
    "\n",
    "n_pacientes_unicos_sepsis = sepsis_details['subject_id'].unique()\n",
    "print(n_pacientes_unicos_sepsis)\n",
    "print(f\"Número de pacientes únicos: {sepsis_details['subject_id'].nunique()}\")"
   ]
  },
  {
   "cell_type": "code",
   "execution_count": 7,
   "id": "3320c537-d20b-4b14-b687-b88014545de6",
   "metadata": {},
   "outputs": [
    {
     "name": "stdout",
     "output_type": "stream",
     "text": [
      "Resultados guardados en 'CSV/chartevents_sepsis_v4.csv'\n"
     ]
    }
   ],
   "source": [
    "# Filtramos chartevents para quedarnos con los sucesos de los casos con ssepsis_cases\n",
    "\n",
    "chartevents_sepsis = chartevents[chartevents['subject_id'].isin(n_pacientes_unicos_sepsis)]\n",
    "\n",
    "# Filtrado por pacientes únicos y múltiples itemid\n",
    "chartevents_sepsis = chartevents[\n",
    "    (chartevents['subject_id'].isin(n_pacientes_unicos_sepsis))]\n",
    "\n",
    "# Guardar los detalles de sepsis en un archivo CSV\n",
    "chartevents_sepsis.to_csv(ruta_guardado +\"chartevents_sepsis_v4.csv\", index=False)\n",
    "# Mensaje de finalización\n",
    "print(\"Resultados guardados en 'CSV/chartevents_sepsis_v4.csv'\")"
   ]
  },
  {
   "cell_type": "code",
   "execution_count": 8,
   "id": "a3635205-5d64-4371-84fb-bed64ff91d0f",
   "metadata": {},
   "outputs": [],
   "source": [
    "# Vamos a añadir como características : \n",
    "#       1. Nº de los antibiotocos tomados en la ultima hospitalizacion\n",
    "# Trabajaré sobre la última hospitalización del paciente\n",
    "\n",
    "chartevents_sepsis = pd.read_csv(ruta_guardado + \"chartevents_sepsis_v4.csv\")\n",
    "\n",
    "# Borramos columnas inutiles\n",
    "chartevents_sepsis = chartevents_sepsis.drop([ 'rate', 'itemid', 'storetime', 'caregiver_id', 'endtime', 'rateuom'], axis=1)\n",
    "\n",
    "# Convertir charttime con formato explícito para cada grupo\n",
    "chartevents_sepsis['charttime_numeric'] = pd.to_datetime(chartevents_sepsis['starttime'], format='%Y-%m-%d %H:%M:%S', errors='coerce')\n",
    "\n",
    "# Convertir a segundos desde epoch\n",
    "chartevents_sepsis['charttime_numeric_s'] = chartevents_sepsis['charttime_numeric'].astype(np.int64) / 10**9\n",
    "# Obtener la última medición de presión arterial por paciente\n",
    "ultimo_oxigeno = (\n",
    "    chartevents_sepsis.groupby('hadm_id')['starttime']\n",
    "    .max()\n",
    "    .reset_index()\n",
    "    .rename(columns={'starttime': 'ultima_charttime'})\n",
    ")\n",
    "\n",
    "# Unir con el dataset original para añadir la última hora de medición de cada paciente\n",
    "df = chartevents_sepsis.merge(ultimo_oxigeno, on='hadm_id', how='left')\n",
    "\n",
    "df['ultima_charttime'] = pd.to_datetime(df['ultima_charttime'], format='%Y-%m-%d %H:%M:%S', errors='coerce')\n",
    "\n",
    "df['ultima_charttime'] = df['ultima_charttime'].astype(np.int64) / 10**9\n",
    "\n",
    "df = df.drop(['starttime'],axis= 1)\n",
    "\n",
    "df.to_csv(ruta_guardado +\"borrar.csv\", index=False)\n"
   ]
  },
  {
   "cell_type": "code",
   "execution_count": 9,
   "id": "789fe0c5-fcad-4691-bb2d-baf73d9f98e1",
   "metadata": {},
   "outputs": [],
   "source": [
    "# print(df.head())"
   ]
  },
  {
   "cell_type": "code",
   "execution_count": 10,
   "id": "0d7160b5-ff98-4d52-abce-d2116c6f58f1",
   "metadata": {},
   "outputs": [
    {
     "name": "stdout",
     "output_type": "stream",
     "text": [
      "   subject_id   hadm_id  amount amountuom  patientweight totalamountuom  \\\n",
      "0    10002013  23581541     1.0      dose           96.0             mL   \n",
      "1    10002013  23581541     1.0      dose           96.0             mL   \n",
      "2    10002428  20321825     1.0      dose           55.0             mL   \n",
      "3    10002428  20321825     1.0      dose           55.0             mL   \n",
      "4    10002428  20321825     1.0      dose           55.0             mL   \n",
      "\n",
      "    charttime_numeric  charttime_numeric_s  ultima_charttime  \n",
      "0 2160-05-18 22:00:00         6.007817e+09      6.007848e+09  \n",
      "1 2160-05-19 06:45:00         6.007848e+09      6.007848e+09  \n",
      "2 2156-05-01 10:00:00         5.880074e+09      5.880172e+09  \n",
      "3 2156-05-01 13:12:00         5.880086e+09      5.880172e+09  \n",
      "4 2156-05-02 13:00:00         5.880172e+09      5.880172e+09  \n"
     ]
    }
   ],
   "source": [
    "# Elimino columnas innecesarias\n",
    "df = df.drop(['stay_id', 'orderid', 'linkorderid', 'ordercategoryname', 'secondaryordercategoryname',\n",
    "              'ordercomponenttypedescription', 'totalamount', 'isopenbag', 'continueinnextdept', \n",
    "             'statusdescription', 'originalamount', 'originalamount', 'originalrate', \n",
    "              'ordercategorydescription'], axis=1)\n",
    "\n",
    "print(df.head())"
   ]
  },
  {
   "cell_type": "code",
   "execution_count": 11,
   "id": "0ebb36ba-f80f-4ef9-a53e-343c93e0a84e",
   "metadata": {},
   "outputs": [],
   "source": [
    "# Paso 1: Identificar la última hospitalización por subject_id\n",
    "ultima_hospitalizacion = (\n",
    "    df.groupby('subject_id')['ultima_charttime']\n",
    "    .max()\n",
    "    .reset_index()\n",
    "    .rename(columns={'ultima_charttime': 'max_ultima_charttime'})\n",
    ")\n",
    "\n",
    "# Paso 2: Unir esta información con el DataFrame original\n",
    "df_filtrado = df.merge(ultima_hospitalizacion, on='subject_id', how='left')\n",
    "\n",
    "# Paso 3: Filtrar solo las filas donde ultima_charttime coincide con la última hospitalización\n",
    "df_ultima_hosp = df_filtrado[df_filtrado['ultima_charttime'] == df_filtrado['max_ultima_charttime']]\n",
    "\n",
    "# Paso 4: Opcional: eliminar la columna auxiliar 'max_ultima_charttime' si no es necesaria\n",
    "df_ultima_hosp = df_ultima_hosp.drop(columns=['max_ultima_charttime', 'hadm_id'])\n",
    "\n",
    "# Guardar el resultado final\n",
    "df_ultima_hosp.to_csv(ruta_guardado + \"ultima_hospitalizacion.csv\", index=False)"
   ]
  },
  {
   "cell_type": "code",
   "execution_count": 12,
   "id": "e3fe6bf5-31a8-4aba-9bf2-68d5945cd1a0",
   "metadata": {},
   "outputs": [
    {
     "name": "stdout",
     "output_type": "stream",
     "text": [
      "   subject_id  amount amountuom  patientweight totalamountuom  \\\n",
      "0    10002013     1.0      dose           96.0             mL   \n",
      "1    10002013     1.0      dose           96.0             mL   \n",
      "5    10002428     1.0      dose           48.4             mL   \n",
      "6    10002428     1.0      dose           48.4             mL   \n",
      "7    10002428     1.0      dose           48.4             mL   \n",
      "\n",
      "    charttime_numeric  charttime_numeric_s  ultima_charttime  \n",
      "0 2160-05-18 22:00:00         6.007817e+09      6.007848e+09  \n",
      "1 2160-05-19 06:45:00         6.007848e+09      6.007848e+09  \n",
      "5 2156-05-13 22:11:00         5.881155e+09      5.881752e+09  \n",
      "6 2156-05-14 00:00:00         5.881162e+09      5.881752e+09  \n",
      "7 2156-05-14 06:18:00         5.881184e+09      5.881752e+09  \n"
     ]
    }
   ],
   "source": [
    "print(df_ultima_hosp.head())"
   ]
  },
  {
   "cell_type": "code",
   "execution_count": 13,
   "id": "07c4b011-aae4-4a39-b5b6-d2436542b1fd",
   "metadata": {},
   "outputs": [
    {
     "name": "stdout",
     "output_type": "stream",
     "text": [
      "   subject_id  admin_antibioticos\n",
      "0    10002013                   2\n",
      "1    10002428                  33\n",
      "2    10003019                   3\n",
      "3    10003400                  24\n",
      "4    10003637                   5\n"
     ]
    }
   ],
   "source": [
    "df_conteo = df_ultima_hosp.groupby(\"subject_id\").size().reset_index(name=\"admin_antibioticos\")\n",
    "\n",
    "print(df_conteo.head())"
   ]
  },
  {
   "cell_type": "code",
   "execution_count": 14,
   "id": "15be6349-4de7-4771-9405-cac1e67451ea",
   "metadata": {},
   "outputs": [
    {
     "name": "stdout",
     "output_type": "stream",
     "text": [
      "   subject_id  gender  anchor_age  sis_desviacion  dias_desviacion  \\\n",
      "0    10002013       0          53       16.689746         8.576824   \n",
      "1    10002155       0          80        9.555103         7.056912   \n",
      "2    10002428       0          80       16.925170        12.605705   \n",
      "3    10002760       1          56        9.953648         4.998814   \n",
      "4    10003400       0          72       10.814669         9.766610   \n",
      "\n",
      "   mean_desviacion   sis_media  dias_media  mean_media  sis_mediana  ...  \\\n",
      "0        13.514515  110.619048   61.476190   76.700000        116.0  ...   \n",
      "1         8.105554  113.400000   57.400000   80.200000        115.0  ...   \n",
      "2        15.075749  110.987220   59.006390   79.524845        109.0  ...   \n",
      "3         5.984499  108.434783   57.521739   74.217391        107.0  ...   \n",
      "4         9.163913  102.727749   64.884817   78.518325        102.0  ...   \n",
      "\n",
      "   mean_mediana  dias_tendencia  sis_tendencia  mean_tendencia  sepsis  \\\n",
      "0          75.5   -2.027962e-04  -2.373182e-04   -2.865596e-04       1   \n",
      "1          82.0    1.853009e-03   1.317543e-03    1.507336e-03       0   \n",
      "2          77.0    4.797726e-06  -3.045229e-06    6.146194e-07       1   \n",
      "3          72.0    1.190949e-04   4.460258e-05    4.550264e-05       0   \n",
      "4          77.0   -4.492071e-08  -6.780092e-07   -3.971503e-07       1   \n",
      "\n",
      "   total_warnings_temperatura  total_warnings_oxigeno  oxigeno_min_24h  \\\n",
      "0                         0.0                     0.0             91.0   \n",
      "1                         0.0                     7.0             90.0   \n",
      "2                         2.0                     0.0             96.0   \n",
      "3                         0.0                     0.0             92.0   \n",
      "4                         3.0                     3.0             92.0   \n",
      "\n",
      "   oxigeno_max_24h  admin_antibioticos  \n",
      "0            100.0                 2.0  \n",
      "1            100.0                 0.0  \n",
      "2            100.0                33.0  \n",
      "3            100.0                 0.0  \n",
      "4            100.0                24.0  \n",
      "\n",
      "[5 rows x 21 columns]\n"
     ]
    }
   ],
   "source": [
    "# Añado esta característica al fichero de características del MODELO2_V3 (parte sepsis)\n",
    "\n",
    "archivo_estadísticas = pd.read_csv(\"C:/Users/BiDAlab/TFG_Alfonso/Pruebas/Modelo2/MIMIC/CSV/V3/archivo_combiando_oxigeno_max_min.csv\")\n",
    "\n",
    "archivo_estadísticas_sepsis = pd.merge(archivo_estadísticas, df_conteo, on='subject_id', how='left')\n",
    "archivo_estadísticas_sepsis[\"admin_antibioticos\"] = archivo_estadísticas_sepsis[\"admin_antibioticos\"].fillna(0)\n",
    "\n",
    "print(archivo_estadísticas_sepsis.head())"
   ]
  },
  {
   "cell_type": "code",
   "execution_count": 15,
   "id": "ef389f69-afa5-4234-883a-91862fbbc8b3",
   "metadata": {},
   "outputs": [
    {
     "name": "stdout",
     "output_type": "stream",
     "text": [
      "Resultados guardados en 'CSV/chartevents_NO_sepsis_v4.csv'\n"
     ]
    }
   ],
   "source": [
    "# Realizamos lo mismo pero para los pacientes sin sepsis\n",
    "\n",
    "# Ahora hago una lista con los pacientes sin sepsis\n",
    "subject_ids_sepsis_0 = archivo_estadísticas[archivo_estadísticas['sepsis'] == 0]['subject_id'].tolist()\n",
    "\n",
    "# Miro en chatevents su oxigeno\n",
    "\n",
    "# Filtramos chartevents para quedarnos con los sucesos de los casos SIN sepsis\n",
    "chartevents_no_sepsis = chartevents[chartevents['subject_id'].isin(subject_ids_sepsis_0)]\n",
    "\n",
    "# Guardar los detalles de sepsis en un archivo CSV\n",
    "chartevents_no_sepsis.to_csv(ruta_guardado +\"chartevents_NO_sepsis_v4.csv\", index=False)\n",
    "# Mensaje de finalización\n",
    "print(\"Resultados guardados en 'CSV/chartevents_NO_sepsis_v4.csv'\")"
   ]
  },
  {
   "cell_type": "code",
   "execution_count": 16,
   "id": "f4135fb4-132a-426f-894d-0008b2bb453f",
   "metadata": {},
   "outputs": [],
   "source": [
    "# Vamos a añadir como características : \n",
    "#       1. Nº de los antibiotocos tomados en la ultima hospitalizacion\n",
    "# Trabajaré sobre la última hospitalización del paciente\n",
    "\n",
    "chartevents_no_sepsis = pd.read_csv(ruta_guardado + \"chartevents_NO_sepsis_v4.csv\")\n",
    "\n",
    "# Borramos columnas inutiles\n",
    "chartevents_no_sepsis = chartevents_no_sepsis.drop([ 'rate', 'itemid', 'storetime', 'caregiver_id', 'endtime', 'rateuom'], axis=1)\n",
    "\n",
    "# Convertir charttime con formato explícito para cada grupo\n",
    "chartevents_no_sepsis['charttime_numeric'] = pd.to_datetime(chartevents_no_sepsis['starttime'], format='%Y-%m-%d %H:%M:%S', errors='coerce')\n",
    "\n",
    "# Convertir a segundos desde epoch\n",
    "chartevents_no_sepsis['charttime_numeric_s'] = chartevents_no_sepsis['charttime_numeric'].astype(np.int64) / 10**9\n",
    "# Obtener la última medición de presión arterial por paciente\n",
    "ultimo_oxigeno = (\n",
    "    chartevents_no_sepsis.groupby('hadm_id')['starttime']\n",
    "    .max()\n",
    "    .reset_index()\n",
    "    .rename(columns={'starttime': 'ultima_charttime'})\n",
    ")\n",
    "\n",
    "# Unir con el dataset original para añadir la última hora de medición de cada paciente\n",
    "df = chartevents_no_sepsis.merge(ultimo_oxigeno, on='hadm_id', how='left')\n",
    "\n",
    "df['ultima_charttime'] = pd.to_datetime(df['ultima_charttime'], format='%Y-%m-%d %H:%M:%S', errors='coerce')\n",
    "\n",
    "df['ultima_charttime'] = df['ultima_charttime'].astype(np.int64) / 10**9\n",
    "\n",
    "df = df.drop(['starttime'],axis= 1)\n",
    "\n",
    "df.to_csv(ruta_guardado +\"borrar.csv\", index=False)\n"
   ]
  },
  {
   "cell_type": "code",
   "execution_count": 17,
   "id": "57d54340-20f1-451f-95aa-575019cdf8fa",
   "metadata": {},
   "outputs": [
    {
     "name": "stdout",
     "output_type": "stream",
     "text": [
      "   subject_id   hadm_id      amount amountuom  patientweight totalamountuom  \\\n",
      "0    10002155  20345487    1.000000      dose           21.1             mL   \n",
      "1    10002155  23822395  499.999976        mg           53.0            NaN   \n",
      "2    10002155  23822395    1.000000      dose           53.0             mL   \n",
      "3    10002155  23822395    1.000000      dose           53.0            NaN   \n",
      "4    10002155  23822395    1.000000      dose           53.0            NaN   \n",
      "\n",
      "    charttime_numeric  charttime_numeric_s  ultima_charttime  \n",
      "0 2131-03-10 02:00:00         5.086548e+09      5.086548e+09  \n",
      "1 2129-08-07 15:00:00         5.036483e+09      5.036746e+09  \n",
      "2 2129-08-07 15:00:00         5.036483e+09      5.036746e+09  \n",
      "3 2129-08-07 15:00:00         5.036483e+09      5.036746e+09  \n",
      "4 2129-08-08 09:00:00         5.036548e+09      5.036746e+09  \n"
     ]
    }
   ],
   "source": [
    "# Elimino columnas innecesarias\n",
    "df = df.drop(['stay_id', 'orderid', 'linkorderid', 'ordercategoryname', 'secondaryordercategoryname',\n",
    "              'ordercomponenttypedescription', 'totalamount', 'isopenbag', 'continueinnextdept', \n",
    "             'statusdescription', 'originalamount', 'originalamount', 'originalrate', \n",
    "              'ordercategorydescription'], axis=1)\n",
    "\n",
    "print(df.head())"
   ]
  },
  {
   "cell_type": "code",
   "execution_count": 18,
   "id": "ffe957fa-2ca2-41da-9e06-1a85d3377d1b",
   "metadata": {},
   "outputs": [],
   "source": [
    "# Paso 1: Identificar la última hospitalización por subject_id\n",
    "ultima_hospitalizacion = (\n",
    "    df.groupby('subject_id')['ultima_charttime']\n",
    "    .max()\n",
    "    .reset_index()\n",
    "    .rename(columns={'ultima_charttime': 'max_ultima_charttime'})\n",
    ")\n",
    "\n",
    "# Paso 2: Unir esta información con el DataFrame original\n",
    "df_filtrado = df.merge(ultima_hospitalizacion, on='subject_id', how='left')\n",
    "\n",
    "# Paso 3: Filtrar solo las filas donde ultima_charttime coincide con la última hospitalización\n",
    "df_ultima_hosp = df_filtrado[df_filtrado['ultima_charttime'] == df_filtrado['max_ultima_charttime']]\n",
    "\n",
    "# Paso 4: Opcional: eliminar la columna auxiliar 'max_ultima_charttime' si no es necesaria\n",
    "df_ultima_hosp = df_ultima_hosp.drop(columns=['max_ultima_charttime', 'hadm_id'])\n",
    "\n",
    "# Guardar el resultado final\n",
    "df_ultima_hosp.to_csv(ruta_guardado + \"ultima_hospitalizacion_NO_sepsis.csv\", index=False)"
   ]
  },
  {
   "cell_type": "code",
   "execution_count": 19,
   "id": "f81d3fc0-a33b-45da-a575-82b58bcd8fd1",
   "metadata": {},
   "outputs": [
    {
     "name": "stdout",
     "output_type": "stream",
     "text": [
      "   subject_id  admin_antibioticos\n",
      "0    10002155                   1\n",
      "1    10002760                   2\n",
      "2    10004606                   2\n",
      "3    10004764                   3\n",
      "4    10005866                  10\n"
     ]
    }
   ],
   "source": [
    "df_conteo = df_ultima_hosp.groupby(\"subject_id\").size().reset_index(name=\"admin_antibioticos\")\n",
    "\n",
    "print(df_conteo.head())"
   ]
  },
  {
   "cell_type": "code",
   "execution_count": 20,
   "id": "1007ec04-9a53-42af-bd28-4ab4d809d0ef",
   "metadata": {},
   "outputs": [
    {
     "name": "stdout",
     "output_type": "stream",
     "text": [
      "   subject_id  gender  anchor_age  sis_desviacion  dias_desviacion  \\\n",
      "0    10002013       0          53       16.689746         8.576824   \n",
      "1    10002155       0          80        9.555103         7.056912   \n",
      "2    10002428       0          80       16.925170        12.605705   \n",
      "3    10002760       1          56        9.953648         4.998814   \n",
      "4    10003400       0          72       10.814669         9.766610   \n",
      "\n",
      "   mean_desviacion   sis_media  dias_media  mean_media  sis_mediana  ...  \\\n",
      "0        13.514515  110.619048   61.476190   76.700000        116.0  ...   \n",
      "1         8.105554  113.400000   57.400000   80.200000        115.0  ...   \n",
      "2        15.075749  110.987220   59.006390   79.524845        109.0  ...   \n",
      "3         5.984499  108.434783   57.521739   74.217391        107.0  ...   \n",
      "4         9.163913  102.727749   64.884817   78.518325        102.0  ...   \n",
      "\n",
      "   mean_mediana  dias_tendencia  sis_tendencia  mean_tendencia  sepsis  \\\n",
      "0          75.5   -2.027962e-04  -2.373182e-04   -2.865596e-04       1   \n",
      "1          82.0    1.853009e-03   1.317543e-03    1.507336e-03       0   \n",
      "2          77.0    4.797726e-06  -3.045229e-06    6.146194e-07       1   \n",
      "3          72.0    1.190949e-04   4.460258e-05    4.550264e-05       0   \n",
      "4          77.0   -4.492071e-08  -6.780092e-07   -3.971503e-07       1   \n",
      "\n",
      "   total_warnings_temperatura  total_warnings_oxigeno  oxigeno_min_24h  \\\n",
      "0                         0.0                     0.0             91.0   \n",
      "1                         0.0                     7.0             90.0   \n",
      "2                         2.0                     0.0             96.0   \n",
      "3                         0.0                     0.0             92.0   \n",
      "4                         3.0                     3.0             92.0   \n",
      "\n",
      "   oxigeno_max_24h  admin_antibioticos  \n",
      "0            100.0                 2.0  \n",
      "1            100.0                 0.0  \n",
      "2            100.0                33.0  \n",
      "3            100.0                 0.0  \n",
      "4            100.0                24.0  \n",
      "\n",
      "[5 rows x 21 columns]\n"
     ]
    }
   ],
   "source": [
    "# Añado esta característica al fichero de características del MODELO2_V2 (parte ssepsis_cases)\n",
    "\n",
    "archivo_estadísticas_NO_sepsis = pd.merge(archivo_estadísticas, df_conteo, on='subject_id', how='left')\n",
    "archivo_estadísticas_NO_sepsis[\"admin_antibioticos\"] = archivo_estadísticas_sepsis[\"admin_antibioticos\"].fillna(0)\n",
    "\n",
    "\n",
    "print(archivo_estadísticas_NO_sepsis.head())"
   ]
  },
  {
   "cell_type": "code",
   "execution_count": 22,
   "id": "213323e1-cd80-48a6-8aaf-b2b12eb0da57",
   "metadata": {},
   "outputs": [
    {
     "name": "stdout",
     "output_type": "stream",
     "text": [
      "Resultados guardados en 'CSV/archivo_combiando_v4.csv'\n"
     ]
    }
   ],
   "source": [
    "# Combino los archivos de sepsis y de no ssepsis_cases\n",
    "\n",
    "archivo_final = pd.concat([archivo_estadísticas_sepsis, archivo_estadísticas_NO_sepsis])\n",
    "\n",
    "# Ordenar por subject_id de menor a mayor\n",
    "archivo_final = archivo_final.sort_values(by='subject_id').reset_index(drop=True)\n",
    "\n",
    "archivo_final = archivo_final.drop_duplicates(subset=[\"subject_id\"])\n",
    "\n",
    "# Guardar los detalles en un archivo CSV\n",
    "archivo_final.to_csv(ruta_guardado +\"archivo_combiando_v4.csv\", index=False)\n",
    "# Mensaje de finalización\n",
    "print(\"Resultados guardados en 'CSV/archivo_combiando_v4.csv'\")"
   ]
  }
 ],
 "metadata": {
  "kernelspec": {
   "display_name": "Python 3 (ipykernel)",
   "language": "python",
   "name": "python3"
  },
  "language_info": {
   "codemirror_mode": {
    "name": "ipython",
    "version": 3
   },
   "file_extension": ".py",
   "mimetype": "text/x-python",
   "name": "python",
   "nbconvert_exporter": "python",
   "pygments_lexer": "ipython3",
   "version": "3.10.7"
  }
 },
 "nbformat": 4,
 "nbformat_minor": 5
}
